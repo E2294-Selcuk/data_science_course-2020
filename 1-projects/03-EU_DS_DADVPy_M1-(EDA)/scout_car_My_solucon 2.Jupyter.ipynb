{
 "cells": [
  {
   "cell_type": "code",
   "execution_count": 1,
   "metadata": {},
   "outputs": [],
   "source": [
    "import pandas as pd\n",
    "import numpy as np\n",
    "import re"
   ]
  },
  {
   "cell_type": "code",
   "execution_count": 2,
   "metadata": {},
   "outputs": [],
   "source": [
    "df = pd.read_csv(\"scout_car_My_solucon 1.Jupyter.csv\")"
   ]
  },
  {
   "cell_type": "code",
   "execution_count": 3,
   "metadata": {},
   "outputs": [
    {
     "data": {
      "text/html": [
       "<div>\n",
       "<style scoped>\n",
       "    .dataframe tbody tr th:only-of-type {\n",
       "        vertical-align: middle;\n",
       "    }\n",
       "\n",
       "    .dataframe tbody tr th {\n",
       "        vertical-align: top;\n",
       "    }\n",
       "\n",
       "    .dataframe thead th {\n",
       "        text-align: right;\n",
       "    }\n",
       "</style>\n",
       "<table border=\"1\" class=\"dataframe\">\n",
       "  <thead>\n",
       "    <tr style=\"text-align: right;\">\n",
       "      <th></th>\n",
       "      <th>Unnamed: 0</th>\n",
       "      <th>make_model</th>\n",
       "      <th>short_description</th>\n",
       "      <th>body_type</th>\n",
       "      <th>price</th>\n",
       "      <th>vat</th>\n",
       "      <th>km</th>\n",
       "      <th>registration</th>\n",
       "      <th>prev_owner</th>\n",
       "      <th>hp</th>\n",
       "      <th>...</th>\n",
       "      <th>Safety &amp; Security</th>\n",
       "      <th>description</th>\n",
       "      <th>Emission Label</th>\n",
       "      <th>Gears</th>\n",
       "      <th>Country version</th>\n",
       "      <th>Now</th>\n",
       "      <th>age_car</th>\n",
       "      <th>Consumption_comb</th>\n",
       "      <th>Consumption_city</th>\n",
       "      <th>Consumption_country</th>\n",
       "    </tr>\n",
       "  </thead>\n",
       "  <tbody>\n",
       "    <tr>\n",
       "      <th>0</th>\n",
       "      <td>0</td>\n",
       "      <td>Audi A1</td>\n",
       "      <td>Sportback 1.4 TDI S-tronic Xenon Navi Klima</td>\n",
       "      <td>Sedans</td>\n",
       "      <td>15770</td>\n",
       "      <td>VAT deductible</td>\n",
       "      <td>56013.0</td>\n",
       "      <td>01/2016</td>\n",
       "      <td>2.0</td>\n",
       "      <td>66</td>\n",
       "      <td>...</td>\n",
       "      <td>['ABS', 'Central door lock', 'Daytime running ...</td>\n",
       "      <td>['\\n', 'Sicherheit:', ' ', 'Deaktivierung für ...</td>\n",
       "      <td>NaN</td>\n",
       "      <td>NaN</td>\n",
       "      <td>NaN</td>\n",
       "      <td>2020</td>\n",
       "      <td>4.0</td>\n",
       "      <td>3.8</td>\n",
       "      <td>4.3</td>\n",
       "      <td>3.5</td>\n",
       "    </tr>\n",
       "    <tr>\n",
       "      <th>1</th>\n",
       "      <td>1</td>\n",
       "      <td>Audi A1</td>\n",
       "      <td>1.8 TFSI sport</td>\n",
       "      <td>Sedans</td>\n",
       "      <td>14500</td>\n",
       "      <td>Price negotiable</td>\n",
       "      <td>80000.0</td>\n",
       "      <td>03/2017</td>\n",
       "      <td>NaN</td>\n",
       "      <td>66</td>\n",
       "      <td>...</td>\n",
       "      <td>['ABS', 'Central door lock', 'Central door loc...</td>\n",
       "      <td>['\\nLangstreckenfahrzeug daher die hohe Kilome...</td>\n",
       "      <td>Green</td>\n",
       "      <td>7.0</td>\n",
       "      <td>NaN</td>\n",
       "      <td>2020</td>\n",
       "      <td>3.0</td>\n",
       "      <td>5.6</td>\n",
       "      <td>7.1</td>\n",
       "      <td>4.7</td>\n",
       "    </tr>\n",
       "  </tbody>\n",
       "</table>\n",
       "<p>2 rows × 47 columns</p>\n",
       "</div>"
      ],
      "text/plain": [
       "   Unnamed: 0 make_model                            short_description  \\\n",
       "0           0    Audi A1  Sportback 1.4 TDI S-tronic Xenon Navi Klima   \n",
       "1           1    Audi A1                               1.8 TFSI sport   \n",
       "\n",
       "  body_type  price               vat       km registration  prev_owner  hp  \\\n",
       "0    Sedans  15770    VAT deductible  56013.0      01/2016         2.0  66   \n",
       "1    Sedans  14500  Price negotiable  80000.0      03/2017         NaN  66   \n",
       "\n",
       "   ...                                  Safety & Security  \\\n",
       "0  ...  ['ABS', 'Central door lock', 'Daytime running ...   \n",
       "1  ...  ['ABS', 'Central door lock', 'Central door loc...   \n",
       "\n",
       "                                         description  Emission Label Gears  \\\n",
       "0  ['\\n', 'Sicherheit:', ' ', 'Deaktivierung für ...             NaN   NaN   \n",
       "1  ['\\nLangstreckenfahrzeug daher die hohe Kilome...           Green   7.0   \n",
       "\n",
       "  Country version   Now age_car  Consumption_comb Consumption_city  \\\n",
       "0             NaN  2020     4.0               3.8              4.3   \n",
       "1             NaN  2020     3.0               5.6              7.1   \n",
       "\n",
       "  Consumption_country  \n",
       "0                 3.5  \n",
       "1                 4.7  \n",
       "\n",
       "[2 rows x 47 columns]"
      ]
     },
     "execution_count": 3,
     "metadata": {},
     "output_type": "execute_result"
    }
   ],
   "source": [
    "df.head(2)"
   ]
  },
  {
   "cell_type": "markdown",
   "metadata": {},
   "source": [
    "# Missingler le mücadele"
   ]
  },
  {
   "cell_type": "code",
   "execution_count": 4,
   "metadata": {},
   "outputs": [
    {
     "data": {
      "text/html": [
       "<div>\n",
       "<style scoped>\n",
       "    .dataframe tbody tr th:only-of-type {\n",
       "        vertical-align: middle;\n",
       "    }\n",
       "\n",
       "    .dataframe tbody tr th {\n",
       "        vertical-align: top;\n",
       "    }\n",
       "\n",
       "    .dataframe thead th {\n",
       "        text-align: right;\n",
       "    }\n",
       "</style>\n",
       "<table border=\"1\" class=\"dataframe\">\n",
       "  <thead>\n",
       "    <tr style=\"text-align: right;\">\n",
       "      <th></th>\n",
       "      <th>make_model</th>\n",
       "    </tr>\n",
       "  </thead>\n",
       "  <tbody>\n",
       "    <tr>\n",
       "      <th>0</th>\n",
       "      <td>Audi A1</td>\n",
       "    </tr>\n",
       "    <tr>\n",
       "      <th>1</th>\n",
       "      <td>Audi A1</td>\n",
       "    </tr>\n",
       "    <tr>\n",
       "      <th>2</th>\n",
       "      <td>Audi A1</td>\n",
       "    </tr>\n",
       "    <tr>\n",
       "      <th>3</th>\n",
       "      <td>Audi A1</td>\n",
       "    </tr>\n",
       "    <tr>\n",
       "      <th>4</th>\n",
       "      <td>Audi A1</td>\n",
       "    </tr>\n",
       "    <tr>\n",
       "      <th>...</th>\n",
       "      <td>...</td>\n",
       "    </tr>\n",
       "    <tr>\n",
       "      <th>15909</th>\n",
       "      <td>Renault Espace</td>\n",
       "    </tr>\n",
       "    <tr>\n",
       "      <th>15910</th>\n",
       "      <td>Renault Espace</td>\n",
       "    </tr>\n",
       "    <tr>\n",
       "      <th>15911</th>\n",
       "      <td>Renault Espace</td>\n",
       "    </tr>\n",
       "    <tr>\n",
       "      <th>15912</th>\n",
       "      <td>Renault Espace</td>\n",
       "    </tr>\n",
       "    <tr>\n",
       "      <th>15913</th>\n",
       "      <td>Renault Espace</td>\n",
       "    </tr>\n",
       "  </tbody>\n",
       "</table>\n",
       "<p>15914 rows × 1 columns</p>\n",
       "</div>"
      ],
      "text/plain": [
       "           make_model\n",
       "0             Audi A1\n",
       "1             Audi A1\n",
       "2             Audi A1\n",
       "3             Audi A1\n",
       "4             Audi A1\n",
       "...               ...\n",
       "15909  Renault Espace\n",
       "15910  Renault Espace\n",
       "15911  Renault Espace\n",
       "15912  Renault Espace\n",
       "15913  Renault Espace\n",
       "\n",
       "[15914 rows x 1 columns]"
      ]
     },
     "execution_count": 4,
     "metadata": {},
     "output_type": "execute_result"
    }
   ],
   "source": [
    "df.iloc[:,[1]]"
   ]
  },
  {
   "cell_type": "code",
   "execution_count": 5,
   "metadata": {},
   "outputs": [
    {
     "data": {
      "text/plain": [
       "Audi A3           3093\n",
       "Audi A1           2614\n",
       "Opel Insignia     2598\n",
       "Opel Astra        2526\n",
       "Opel Corsa        2219\n",
       "Renault Clio      1838\n",
       "Renault Espace     991\n",
       "Renault Duster      34\n",
       "Audi A2              1\n",
       "Name: make_model, dtype: int64"
      ]
     },
     "execution_count": 5,
     "metadata": {},
     "output_type": "execute_result"
    }
   ],
   "source": [
    "df[\"make_model\"].value_counts(dropna=True)"
   ]
  },
  {
   "cell_type": "code",
   "execution_count": 6,
   "metadata": {},
   "outputs": [
    {
     "data": {
      "text/plain": [
       "0"
      ]
     },
     "execution_count": 6,
     "metadata": {},
     "output_type": "execute_result"
    }
   ],
   "source": [
    "df[\"make_model\"].isnull().sum()"
   ]
  },
  {
   "cell_type": "markdown",
   "metadata": {},
   "source": [
    "### df[\"short_description\"] Aracın genel  özellikleriyle karsılastır"
   ]
  },
  {
   "cell_type": "code",
   "execution_count": null,
   "metadata": {},
   "outputs": [],
   "source": []
  },
  {
   "cell_type": "code",
   "execution_count": 7,
   "metadata": {},
   "outputs": [
    {
     "data": {
      "text/html": [
       "<div>\n",
       "<style scoped>\n",
       "    .dataframe tbody tr th:only-of-type {\n",
       "        vertical-align: middle;\n",
       "    }\n",
       "\n",
       "    .dataframe tbody tr th {\n",
       "        vertical-align: top;\n",
       "    }\n",
       "\n",
       "    .dataframe thead th {\n",
       "        text-align: right;\n",
       "    }\n",
       "</style>\n",
       "<table border=\"1\" class=\"dataframe\">\n",
       "  <thead>\n",
       "    <tr style=\"text-align: right;\">\n",
       "      <th></th>\n",
       "      <th>short_description</th>\n",
       "    </tr>\n",
       "  </thead>\n",
       "  <tbody>\n",
       "    <tr>\n",
       "      <th>0</th>\n",
       "      <td>Sportback 1.4 TDI S-tronic Xenon Navi Klima</td>\n",
       "    </tr>\n",
       "    <tr>\n",
       "      <th>1</th>\n",
       "      <td>1.8 TFSI sport</td>\n",
       "    </tr>\n",
       "    <tr>\n",
       "      <th>2</th>\n",
       "      <td>Sportback 1.6 TDI S tronic Einparkhilfe plus+m...</td>\n",
       "    </tr>\n",
       "    <tr>\n",
       "      <th>3</th>\n",
       "      <td>1.4 TDi Design S tronic</td>\n",
       "    </tr>\n",
       "    <tr>\n",
       "      <th>4</th>\n",
       "      <td>Sportback 1.4 TDI S-Tronic S-Line Ext. admired...</td>\n",
       "    </tr>\n",
       "    <tr>\n",
       "      <th>...</th>\n",
       "      <td>...</td>\n",
       "    </tr>\n",
       "    <tr>\n",
       "      <th>15909</th>\n",
       "      <td>Blue dCi 200CV EDC Executive 4Control</td>\n",
       "    </tr>\n",
       "    <tr>\n",
       "      <th>15910</th>\n",
       "      <td>TCe 225 EDC GPF LIM Deluxe Pano,RFK</td>\n",
       "    </tr>\n",
       "    <tr>\n",
       "      <th>15911</th>\n",
       "      <td>Blue dCi 200 EDC Initiale Paris Leder LED Navi...</td>\n",
       "    </tr>\n",
       "    <tr>\n",
       "      <th>15912</th>\n",
       "      <td>Blue dCi 200CV EDC Business , NUOVA DA IMMATRI...</td>\n",
       "    </tr>\n",
       "    <tr>\n",
       "      <th>15913</th>\n",
       "      <td>INITIALE PARIS TCe 225 EDC GPF NAVI SHZ AUX</td>\n",
       "    </tr>\n",
       "  </tbody>\n",
       "</table>\n",
       "<p>15914 rows × 1 columns</p>\n",
       "</div>"
      ],
      "text/plain": [
       "                                       short_description\n",
       "0            Sportback 1.4 TDI S-tronic Xenon Navi Klima\n",
       "1                                         1.8 TFSI sport\n",
       "2      Sportback 1.6 TDI S tronic Einparkhilfe plus+m...\n",
       "3                                1.4 TDi Design S tronic\n",
       "4      Sportback 1.4 TDI S-Tronic S-Line Ext. admired...\n",
       "...                                                  ...\n",
       "15909              Blue dCi 200CV EDC Executive 4Control\n",
       "15910                TCe 225 EDC GPF LIM Deluxe Pano,RFK\n",
       "15911  Blue dCi 200 EDC Initiale Paris Leder LED Navi...\n",
       "15912  Blue dCi 200CV EDC Business , NUOVA DA IMMATRI...\n",
       "15913        INITIALE PARIS TCe 225 EDC GPF NAVI SHZ AUX\n",
       "\n",
       "[15914 rows x 1 columns]"
      ]
     },
     "execution_count": 7,
     "metadata": {},
     "output_type": "execute_result"
    }
   ],
   "source": [
    "df.iloc[:,[2]]"
   ]
  },
  {
   "cell_type": "code",
   "execution_count": 8,
   "metadata": {},
   "outputs": [
    {
     "data": {
      "text/plain": [
       "0              Sportback 1.4 TDI S-tronic Xenon Navi Klima\n",
       "1                                           1.8 TFSI sport\n",
       "2        Sportback 1.6 TDI S tronic Einparkhilfe plus+m...\n",
       "3                                  1.4 TDi Design S tronic\n",
       "4        Sportback 1.4 TDI S-Tronic S-Line Ext. admired...\n",
       "                               ...                        \n",
       "15909                Blue dCi 200CV EDC Executive 4Control\n",
       "15910                  TCe 225 EDC GPF LIM Deluxe Pano,RFK\n",
       "15911    Blue dCi 200 EDC Initiale Paris Leder LED Navi...\n",
       "15912    Blue dCi 200CV EDC Business , NUOVA DA IMMATRI...\n",
       "15913          INITIALE PARIS TCe 225 EDC GPF NAVI SHZ AUX\n",
       "Name: short_description, Length: 15914, dtype: object"
      ]
     },
     "execution_count": 8,
     "metadata": {},
     "output_type": "execute_result"
    }
   ],
   "source": [
    "df[\"short_description\"]"
   ]
  },
  {
   "cell_type": "markdown",
   "metadata": {},
   "source": [
    "### df[\"body_type\"]"
   ]
  },
  {
   "cell_type": "code",
   "execution_count": 9,
   "metadata": {},
   "outputs": [
    {
     "data": {
      "text/html": [
       "<div>\n",
       "<style scoped>\n",
       "    .dataframe tbody tr th:only-of-type {\n",
       "        vertical-align: middle;\n",
       "    }\n",
       "\n",
       "    .dataframe tbody tr th {\n",
       "        vertical-align: top;\n",
       "    }\n",
       "\n",
       "    .dataframe thead th {\n",
       "        text-align: right;\n",
       "    }\n",
       "</style>\n",
       "<table border=\"1\" class=\"dataframe\">\n",
       "  <thead>\n",
       "    <tr style=\"text-align: right;\">\n",
       "      <th></th>\n",
       "      <th>body_type</th>\n",
       "    </tr>\n",
       "  </thead>\n",
       "  <tbody>\n",
       "    <tr>\n",
       "      <th>0</th>\n",
       "      <td>Sedans</td>\n",
       "    </tr>\n",
       "    <tr>\n",
       "      <th>1</th>\n",
       "      <td>Sedans</td>\n",
       "    </tr>\n",
       "    <tr>\n",
       "      <th>2</th>\n",
       "      <td>Sedans</td>\n",
       "    </tr>\n",
       "    <tr>\n",
       "      <th>3</th>\n",
       "      <td>Sedans</td>\n",
       "    </tr>\n",
       "    <tr>\n",
       "      <th>4</th>\n",
       "      <td>Sedans</td>\n",
       "    </tr>\n",
       "    <tr>\n",
       "      <th>...</th>\n",
       "      <td>...</td>\n",
       "    </tr>\n",
       "    <tr>\n",
       "      <th>15909</th>\n",
       "      <td>Van</td>\n",
       "    </tr>\n",
       "    <tr>\n",
       "      <th>15910</th>\n",
       "      <td>Van</td>\n",
       "    </tr>\n",
       "    <tr>\n",
       "      <th>15911</th>\n",
       "      <td>Van</td>\n",
       "    </tr>\n",
       "    <tr>\n",
       "      <th>15912</th>\n",
       "      <td>Van</td>\n",
       "    </tr>\n",
       "    <tr>\n",
       "      <th>15913</th>\n",
       "      <td>Van</td>\n",
       "    </tr>\n",
       "  </tbody>\n",
       "</table>\n",
       "<p>15914 rows × 1 columns</p>\n",
       "</div>"
      ],
      "text/plain": [
       "      body_type\n",
       "0        Sedans\n",
       "1        Sedans\n",
       "2        Sedans\n",
       "3        Sedans\n",
       "4        Sedans\n",
       "...         ...\n",
       "15909       Van\n",
       "15910       Van\n",
       "15911       Van\n",
       "15912       Van\n",
       "15913       Van\n",
       "\n",
       "[15914 rows x 1 columns]"
      ]
     },
     "execution_count": 9,
     "metadata": {},
     "output_type": "execute_result"
    }
   ],
   "source": [
    "df.iloc[:,[3]]"
   ]
  },
  {
   "cell_type": "code",
   "execution_count": 10,
   "metadata": {},
   "outputs": [
    {
     "data": {
      "text/plain": [
       "Sedans           7899\n",
       "Station wagon    3553\n",
       "Compact          3152\n",
       "Van               783\n",
       "Other             290\n",
       "Transporter        88\n",
       "NaN                60\n",
       "Off-Road           56\n",
       "Coupe              25\n",
       "Convertible         8\n",
       "Name: body_type, dtype: int64"
      ]
     },
     "execution_count": 10,
     "metadata": {},
     "output_type": "execute_result"
    }
   ],
   "source": [
    "df[\"body_type\"].value_counts(dropna = False)"
   ]
  },
  {
   "cell_type": "code",
   "execution_count": 11,
   "metadata": {},
   "outputs": [
    {
     "data": {
      "text/plain": [
       "60"
      ]
     },
     "execution_count": 11,
     "metadata": {},
     "output_type": "execute_result"
    }
   ],
   "source": [
    "df[\"body_type\"].isnull().sum()"
   ]
  },
  {
   "cell_type": "code",
   "execution_count": 12,
   "metadata": {},
   "outputs": [
    {
     "data": {
      "text/plain": [
       "3175    NaN\n",
       "3255    NaN\n",
       "Name: body_type, dtype: object"
      ]
     },
     "execution_count": 12,
     "metadata": {},
     "output_type": "execute_result"
    }
   ],
   "source": [
    "df[df[\"body_type\"].isnull()][\"body_type\"][0:2]# Nan ların indexi"
   ]
  },
  {
   "cell_type": "code",
   "execution_count": 13,
   "metadata": {},
   "outputs": [
    {
     "data": {
      "text/plain": [
       "'body_typ_nan = df[(df[\"make_model\"] == \"Audi A3\") & (df[\"body_type\"].isnull())][\"body_type\"]\\nbody_typ_nan '"
      ]
     },
     "execution_count": 13,
     "metadata": {},
     "output_type": "execute_result"
    }
   ],
   "source": [
    "\"\"\"body_typ_nan = df[(df[\"make_model\"] == \"Audi A3\") & (df[\"body_type\"].isnull())][\"body_type\"]\n",
    "body_typ_nan \"\"\""
   ]
  },
  {
   "cell_type": "code",
   "execution_count": 14,
   "metadata": {
    "scrolled": true
   },
   "outputs": [
    {
     "data": {
      "text/plain": [
       "'body_typ_nan = df[(df[\"make_model\"] == \"Audi A3\") & (df[\"body_type\"].isnull())][\"body_type\"]\\nbody_typ_nan.fillna(\"deneme\", inplace = True)'"
      ]
     },
     "execution_count": 14,
     "metadata": {},
     "output_type": "execute_result"
    }
   ],
   "source": [
    "\"\"\"body_typ_nan = df[(df[\"make_model\"] == \"Audi A3\") & (df[\"body_type\"].isnull())][\"body_type\"]\n",
    "body_typ_nan.fillna(\"deneme\", inplace = True)\"\"\""
   ]
  },
  {
   "cell_type": "code",
   "execution_count": null,
   "metadata": {},
   "outputs": [],
   "source": []
  },
  {
   "cell_type": "code",
   "execution_count": null,
   "metadata": {},
   "outputs": [],
   "source": []
  },
  {
   "cell_type": "markdown",
   "metadata": {},
   "source": [
    "## calısmadı ama neden????????? \n",
    "\n",
    "i_1 = 0\n",
    "body_non_make_modeller = df[df[\"body_type\"].isnull()][\"make_model\"]\n",
    "for i in body_non_make_modeller:\n",
    "    \n",
    "    if i_1 != i :\n",
    "        print(i)\n",
    "        mode = df[df[\"make_model\"] == f\"{i}\"][\"body_type\"].mode()[0]\n",
    "        print(mode)\n",
    "        \n",
    "         \n",
    "        body_typ_nan = df[(df[\"make_model\"] == f\"{i}\") & (df[\"body_type\"].isnull())][\"body_type\"]\n",
    "        print(body_typ_nan)\n",
    "        \n",
    "        print(\"************\") \n",
    "        body_typ_nan.fillna(mode, inplace = True)\n",
    "        print(body_typ_nan)\n",
    "           \n",
    "                       \n",
    "     \n",
    "    i_1 = i\n",
    "    \n",
    "    \n",
    "    \n",
    "    \n",
    "    \n",
    " "
   ]
  },
  {
   "cell_type": "code",
   "execution_count": null,
   "metadata": {},
   "outputs": [],
   "source": []
  },
  {
   "cell_type": "code",
   "execution_count": 15,
   "metadata": {},
   "outputs": [
    {
     "name": "stdout",
     "output_type": "stream",
     "text": [
      "************ Audi A3 Sedans\n",
      "Sedans\n",
      "Sedans\n",
      "Sedans\n",
      "Sedans\n",
      "Sedans\n",
      "Sedans\n",
      "Sedans\n",
      "************ Opel Astra Station wagon\n",
      "Station wagon\n",
      "Station wagon\n",
      "Station wagon\n",
      "Station wagon\n",
      "Station wagon\n",
      "Station wagon\n",
      "Station wagon\n",
      "************ Opel Corsa Compact\n",
      "Compact\n",
      "Compact\n",
      "************ Opel Insignia Station wagon\n",
      "Station wagon\n",
      "Station wagon\n",
      "Station wagon\n",
      "************ Renault Clio Sedans\n",
      "Sedans\n",
      "Sedans\n",
      "Sedans\n",
      "Sedans\n",
      "Sedans\n",
      "Sedans\n",
      "Sedans\n",
      "Sedans\n",
      "Sedans\n",
      "Sedans\n",
      "Sedans\n",
      "Sedans\n",
      "Sedans\n",
      "Sedans\n",
      "Sedans\n",
      "************ Renault Espace Van\n",
      "Van\n",
      "Van\n",
      "Van\n",
      "Van\n",
      "Van\n",
      "Van\n",
      "Van\n",
      "Van\n",
      "Van\n",
      "Van\n",
      "Van\n",
      "Van\n",
      "Van\n",
      "Van\n",
      "Van\n",
      "Van\n",
      "Van\n",
      "Van\n",
      "Van\n",
      "Van\n",
      "Van\n",
      "Van\n",
      "Van\n",
      "Van\n",
      "Van\n",
      "Van\n"
     ]
    }
   ],
   "source": [
    "i_1 = 0\n",
    "body_non_make_modeller = df[df[\"body_type\"].isnull()][\"make_model\"]\n",
    "for i in body_non_make_modeller:\n",
    "    \n",
    "    if i_1 != i :\n",
    "        \n",
    "               \n",
    "        mode = df[df[\"make_model\"] == f\"{i}\"][\"body_type\"].mode()[0]\n",
    "         \n",
    "        body_typ_nan = df[(df[\"make_model\"] == f\"{i}\") & (df[\"body_type\"].isnull())][\"body_type\"]\n",
    "        \n",
    "        #print(mode)\n",
    "        print(\"************\", i, mode)  \n",
    "        \n",
    "        for index in body_typ_nan.index :\n",
    "            \n",
    "            \n",
    "            df.loc[index, \"body_type\"] = mode\n",
    "            print(df.loc[index, \"body_type\"])\n",
    "            \n",
    "     \n",
    "    i_1 = i\n",
    "    "
   ]
  },
  {
   "cell_type": "code",
   "execution_count": 16,
   "metadata": {},
   "outputs": [
    {
     "data": {
      "text/plain": [
       "0"
      ]
     },
     "execution_count": 16,
     "metadata": {},
     "output_type": "execute_result"
    }
   ],
   "source": [
    "df[\"body_type\"].isnull().sum()"
   ]
  },
  {
   "cell_type": "code",
   "execution_count": 17,
   "metadata": {},
   "outputs": [
    {
     "data": {
      "text/plain": [
       "Sedans           7921\n",
       "Station wagon    3563\n",
       "Compact          3154\n",
       "Van               809\n",
       "Other             290\n",
       "Transporter        88\n",
       "Off-Road           56\n",
       "Coupe              25\n",
       "Convertible         8\n",
       "Name: body_type, dtype: int64"
      ]
     },
     "execution_count": 17,
     "metadata": {},
     "output_type": "execute_result"
    }
   ],
   "source": [
    "df[\"body_type\"].value_counts(dropna=False)"
   ]
  },
  {
   "cell_type": "code",
   "execution_count": null,
   "metadata": {},
   "outputs": [],
   "source": []
  },
  {
   "cell_type": "markdown",
   "metadata": {},
   "source": [
    "## Drop"
   ]
  },
  {
   "cell_type": "code",
   "execution_count": null,
   "metadata": {},
   "outputs": [],
   "source": []
  },
  {
   "cell_type": "code",
   "execution_count": 18,
   "metadata": {},
   "outputs": [],
   "source": [
    "df.drop(\"Body\", axis =1, inplace=True)"
   ]
  },
  {
   "cell_type": "code",
   "execution_count": 19,
   "metadata": {},
   "outputs": [
    {
     "data": {
      "text/plain": [
       "Index(['Unnamed: 0', 'make_model', 'short_description', 'body_type', 'price',\n",
       "       'vat', 'km', 'registration', 'prev_owner', 'hp', 'Previous Owners',\n",
       "       'Next Inspection', 'Warranty', 'Full Service', 'Non-smoking Vehicle',\n",
       "       'Make', 'Model', 'First Registration', 'Body Color', 'Paint Type',\n",
       "       'Body Color Original', 'Upholstery', 'Nr. of Doors', 'Nr. of Seats',\n",
       "       'Model Code', 'Gearing Type', 'Displacement', 'Cylinders', 'Weight',\n",
       "       'Drive chain', 'Fuel', 'CO2 Emission', 'Emission Class',\n",
       "       'Comfort & Convenience', 'Entertainment & Media', 'Extras',\n",
       "       'Safety & Security', 'description', 'Emission Label', 'Gears',\n",
       "       'Country version', 'Now', 'age_car', 'Consumption_comb',\n",
       "       'Consumption_city', 'Consumption_country'],\n",
       "      dtype='object')"
      ]
     },
     "execution_count": 19,
     "metadata": {},
     "output_type": "execute_result"
    }
   ],
   "source": [
    "df.columns\n"
   ]
  },
  {
   "cell_type": "markdown",
   "metadata": {},
   "source": [
    "## df['vat']"
   ]
  },
  {
   "cell_type": "code",
   "execution_count": 20,
   "metadata": {},
   "outputs": [],
   "source": [
    "#### df['vat']   vat deductive ise True degil se False"
   ]
  },
  {
   "cell_type": "code",
   "execution_count": null,
   "metadata": {},
   "outputs": [],
   "source": []
  },
  {
   "cell_type": "code",
   "execution_count": 21,
   "metadata": {},
   "outputs": [
    {
     "data": {
      "text/plain": [
       "VAT deductible      10979\n",
       "NaN                  4511\n",
       "Price negotiable      424\n",
       "Name: vat, dtype: int64"
      ]
     },
     "execution_count": 21,
     "metadata": {},
     "output_type": "execute_result"
    }
   ],
   "source": [
    "df['vat'].value_counts(dropna =False)"
   ]
  },
  {
   "cell_type": "code",
   "execution_count": 22,
   "metadata": {},
   "outputs": [
    {
     "data": {
      "text/plain": [
       "28.346110343094132"
      ]
     },
     "execution_count": 22,
     "metadata": {},
     "output_type": "execute_result"
    }
   ],
   "source": [
    "df['vat'].isnull().sum() / df['vat'].shape[0]*100"
   ]
  },
  {
   "cell_type": "code",
   "execution_count": 23,
   "metadata": {},
   "outputs": [],
   "source": [
    "df['vat'].replace(\"VAT deductible\", True, inplace =True)"
   ]
  },
  {
   "cell_type": "code",
   "execution_count": 24,
   "metadata": {},
   "outputs": [],
   "source": [
    "df['vat'].replace(\"Price negotiable\", False, inplace =True)"
   ]
  },
  {
   "cell_type": "code",
   "execution_count": 25,
   "metadata": {},
   "outputs": [],
   "source": [
    "df[\"vat\"].fillna(True, inplace = True)"
   ]
  },
  {
   "cell_type": "code",
   "execution_count": 26,
   "metadata": {},
   "outputs": [
    {
     "data": {
      "text/plain": [
       "0"
      ]
     },
     "execution_count": 26,
     "metadata": {},
     "output_type": "execute_result"
    }
   ],
   "source": [
    "df['vat'].isnull().sum()"
   ]
  },
  {
   "cell_type": "markdown",
   "metadata": {},
   "source": [
    "### df[\"km\"]"
   ]
  },
  {
   "cell_type": "code",
   "execution_count": 27,
   "metadata": {},
   "outputs": [
    {
     "data": {
      "text/plain": [
       "'km'"
      ]
     },
     "execution_count": 27,
     "metadata": {},
     "output_type": "execute_result"
    }
   ],
   "source": [
    "df.columns[6]"
   ]
  },
  {
   "cell_type": "code",
   "execution_count": 28,
   "metadata": {},
   "outputs": [
    {
     "data": {
      "text/plain": [
       "1024"
      ]
     },
     "execution_count": 28,
     "metadata": {},
     "output_type": "execute_result"
    }
   ],
   "source": [
    "df[\"km\"].isnull().sum()"
   ]
  },
  {
   "cell_type": "code",
   "execution_count": 29,
   "metadata": {},
   "outputs": [
    {
     "data": {
      "text/plain": [
       "6.434585899208245"
      ]
     },
     "execution_count": 29,
     "metadata": {},
     "output_type": "execute_result"
    }
   ],
   "source": [
    "df[\"km\"].isnull().sum() / df.km.shape[0]*100"
   ]
  },
  {
   "cell_type": "code",
   "execution_count": 30,
   "metadata": {},
   "outputs": [
    {
     "data": {
      "text/plain": [
       "Index(['Unnamed: 0', 'make_model', 'short_description', 'body_type', 'price',\n",
       "       'vat', 'km', 'registration', 'prev_owner', 'hp', 'Previous Owners',\n",
       "       'Next Inspection', 'Warranty', 'Full Service', 'Non-smoking Vehicle',\n",
       "       'Make', 'Model', 'First Registration', 'Body Color', 'Paint Type',\n",
       "       'Body Color Original', 'Upholstery', 'Nr. of Doors', 'Nr. of Seats',\n",
       "       'Model Code', 'Gearing Type', 'Displacement', 'Cylinders', 'Weight',\n",
       "       'Drive chain', 'Fuel', 'CO2 Emission', 'Emission Class',\n",
       "       'Comfort & Convenience', 'Entertainment & Media', 'Extras',\n",
       "       'Safety & Security', 'description', 'Emission Label', 'Gears',\n",
       "       'Country version', 'Now', 'age_car', 'Consumption_comb',\n",
       "       'Consumption_city', 'Consumption_country'],\n",
       "      dtype='object')"
      ]
     },
     "execution_count": 30,
     "metadata": {},
     "output_type": "execute_result"
    }
   ],
   "source": [
    "df.columns"
   ]
  },
  {
   "cell_type": "code",
   "execution_count": 31,
   "metadata": {},
   "outputs": [
    {
     "data": {
      "text/plain": [
       "make_model      age_car\n",
       "Audi A1         1.0         2494.501053\n",
       "                2.0        13785.852901\n",
       "                3.0        25821.712963\n",
       "                4.0        54332.286169\n",
       "Audi A2         2.0        26166.000000\n",
       "Audi A3         1.0         2126.757322\n",
       "                2.0        18421.587322\n",
       "                3.0        43853.140741\n",
       "                4.0        90133.488372\n",
       "Opel Astra      1.0         2915.672018\n",
       "                2.0        21442.708738\n",
       "                3.0        49981.778535\n",
       "                4.0        89134.265896\n",
       "Opel Corsa      1.0         1079.616514\n",
       "                2.0        17426.714495\n",
       "                3.0        39977.979058\n",
       "                4.0        62904.030303\n",
       "Opel Insignia   1.0         3483.250000\n",
       "                2.0        22193.801567\n",
       "                3.0        47732.103565\n",
       "                4.0        93187.985891\n",
       "Renault Clio    1.0          727.282946\n",
       "                2.0        15396.517730\n",
       "                3.0        36660.153318\n",
       "                4.0        68673.041363\n",
       "Renault Duster  1.0          101.000000\n",
       "Renault Espace  1.0         1755.752525\n",
       "                2.0        14203.599138\n",
       "                3.0        41886.635294\n",
       "                4.0        74400.566667\n",
       "Name: km, dtype: float64"
      ]
     },
     "execution_count": 31,
     "metadata": {},
     "output_type": "execute_result"
    }
   ],
   "source": [
    "df.groupby([\"make_model\", \"age_car\"])[\"km\"].mean()"
   ]
  },
  {
   "cell_type": "code",
   "execution_count": 32,
   "metadata": {},
   "outputs": [
    {
     "data": {
      "text/plain": [
       "make_model      age_car\n",
       "Audi A1         1.0         2494.501053\n",
       "                2.0        13785.852901\n",
       "                3.0        25821.712963\n",
       "                4.0        54332.286169\n",
       "Audi A2         2.0        26166.000000\n",
       "Audi A3         1.0         2126.757322\n",
       "                2.0        18421.587322\n",
       "                3.0        43853.140741\n",
       "                4.0        90133.488372\n",
       "Opel Astra      1.0         2915.672018\n",
       "                2.0        21442.708738\n",
       "                3.0        49981.778535\n",
       "                4.0        89134.265896\n",
       "Opel Corsa      1.0         1079.616514\n",
       "                2.0        17426.714495\n",
       "                3.0        39977.979058\n",
       "                4.0        62904.030303\n",
       "Opel Insignia   1.0         3483.250000\n",
       "                2.0        22193.801567\n",
       "                3.0        47732.103565\n",
       "                4.0        93187.985891\n",
       "Renault Clio    1.0          727.282946\n",
       "                2.0        15396.517730\n",
       "                3.0        36660.153318\n",
       "                4.0        68673.041363\n",
       "Renault Duster  1.0          101.000000\n",
       "Renault Espace  1.0         1755.752525\n",
       "                2.0        14203.599138\n",
       "                3.0        41886.635294\n",
       "                4.0        74400.566667\n",
       "Name: km, dtype: float64"
      ]
     },
     "execution_count": 32,
     "metadata": {},
     "output_type": "execute_result"
    }
   ],
   "source": [
    "df.groupby([\"make_model\", \"age_car\"])[\"km\"].mean()"
   ]
  },
  {
   "cell_type": "markdown",
   "metadata": {},
   "source": [
    "*****km Nan larının 838 tanesi nin yas degeri de bos. % 81 bos"
   ]
  },
  {
   "cell_type": "code",
   "execution_count": 33,
   "metadata": {},
   "outputs": [
    {
     "data": {
      "text/plain": [
       "make_model     0.000000\n",
       "age_car       81.835938\n",
       "dtype: float64"
      ]
     },
     "execution_count": 33,
     "metadata": {},
     "output_type": "execute_result"
    }
   ],
   "source": [
    "df[df.km.isnull()][[\"make_model\", \"age_car\"]].isnull().sum() / df[df.km.isnull()][[\"make_model\", \"age_car\"]].shape[0] *100"
   ]
  },
  {
   "cell_type": "code",
   "execution_count": 34,
   "metadata": {},
   "outputs": [
    {
     "data": {
      "text/plain": [
       "make_model      0\n",
       "age_car       838\n",
       "dtype: int64"
      ]
     },
     "execution_count": 34,
     "metadata": {},
     "output_type": "execute_result"
    }
   ],
   "source": [
    "df[df.km.isnull()][[\"make_model\", \"age_car\"]].isnull().sum()"
   ]
  },
  {
   "cell_type": "markdown",
   "metadata": {},
   "source": [
    "### yasın yüzde 10 bos"
   ]
  },
  {
   "cell_type": "code",
   "execution_count": 35,
   "metadata": {},
   "outputs": [
    {
     "data": {
      "text/plain": [
       "10.035189141636296"
      ]
     },
     "execution_count": 35,
     "metadata": {},
     "output_type": "execute_result"
    }
   ],
   "source": [
    "df[\"age_car\"].isnull().sum() / df[\"age_car\"].shape[0] * 100"
   ]
  },
  {
   "cell_type": "code",
   "execution_count": 36,
   "metadata": {},
   "outputs": [
    {
     "data": {
      "text/plain": [
       "5.097380792478173"
      ]
     },
     "execution_count": 36,
     "metadata": {},
     "output_type": "execute_result"
    }
   ],
   "source": [
    "df[df[\"km\"].notna()][\"age_car\"].isnull().sum()/ df[df[\"km\"].notna()][\"age_car\"].shape[0] * 100"
   ]
  },
  {
   "cell_type": "code",
   "execution_count": 37,
   "metadata": {},
   "outputs": [
    {
     "name": "stderr",
     "output_type": "stream",
     "text": [
      "C:\\ProgramData\\Anaconda3\\lib\\site-packages\\ipykernel_launcher.py:1: FutureWarning: Indexing with multiple keys (implicitly converted to a tuple of keys) will be deprecated, use a list instead.\n",
      "  \"\"\"Entry point for launching an IPython kernel.\n"
     ]
    },
    {
     "data": {
      "text/html": [
       "<div>\n",
       "<style scoped>\n",
       "    .dataframe tbody tr th:only-of-type {\n",
       "        vertical-align: middle;\n",
       "    }\n",
       "\n",
       "    .dataframe tbody tr th {\n",
       "        vertical-align: top;\n",
       "    }\n",
       "\n",
       "    .dataframe thead th {\n",
       "        text-align: right;\n",
       "    }\n",
       "</style>\n",
       "<table border=\"1\" class=\"dataframe\">\n",
       "  <thead>\n",
       "    <tr style=\"text-align: right;\">\n",
       "      <th></th>\n",
       "      <th></th>\n",
       "      <th>age_car</th>\n",
       "    </tr>\n",
       "    <tr>\n",
       "      <th>make_model</th>\n",
       "      <th>age_car</th>\n",
       "      <th></th>\n",
       "    </tr>\n",
       "  </thead>\n",
       "  <tbody>\n",
       "    <tr>\n",
       "      <th rowspan=\"2\" valign=\"top\">Audi A1</th>\n",
       "      <th>1.0</th>\n",
       "      <td>1.0</td>\n",
       "    </tr>\n",
       "    <tr>\n",
       "      <th>2.0</th>\n",
       "      <td>2.0</td>\n",
       "    </tr>\n",
       "    <tr>\n",
       "      <th rowspan=\"2\" valign=\"top\">Audi A3</th>\n",
       "      <th>1.0</th>\n",
       "      <td>1.0</td>\n",
       "    </tr>\n",
       "    <tr>\n",
       "      <th>2.0</th>\n",
       "      <td>2.0</td>\n",
       "    </tr>\n",
       "    <tr>\n",
       "      <th rowspan=\"2\" valign=\"top\">Opel Astra</th>\n",
       "      <th>1.0</th>\n",
       "      <td>1.0</td>\n",
       "    </tr>\n",
       "    <tr>\n",
       "      <th>2.0</th>\n",
       "      <td>2.0</td>\n",
       "    </tr>\n",
       "    <tr>\n",
       "      <th>Opel Corsa</th>\n",
       "      <th>1.0</th>\n",
       "      <td>1.0</td>\n",
       "    </tr>\n",
       "    <tr>\n",
       "      <th rowspan=\"2\" valign=\"top\">Opel Insignia</th>\n",
       "      <th>1.0</th>\n",
       "      <td>1.0</td>\n",
       "    </tr>\n",
       "    <tr>\n",
       "      <th>2.0</th>\n",
       "      <td>2.0</td>\n",
       "    </tr>\n",
       "    <tr>\n",
       "      <th rowspan=\"3\" valign=\"top\">Renault Clio</th>\n",
       "      <th>1.0</th>\n",
       "      <td>1.0</td>\n",
       "    </tr>\n",
       "    <tr>\n",
       "      <th>2.0</th>\n",
       "      <td>2.0</td>\n",
       "    </tr>\n",
       "    <tr>\n",
       "      <th>3.0</th>\n",
       "      <td>3.0</td>\n",
       "    </tr>\n",
       "    <tr>\n",
       "      <th rowspan=\"2\" valign=\"top\">Renault Espace</th>\n",
       "      <th>1.0</th>\n",
       "      <td>1.0</td>\n",
       "    </tr>\n",
       "    <tr>\n",
       "      <th>2.0</th>\n",
       "      <td>2.0</td>\n",
       "    </tr>\n",
       "  </tbody>\n",
       "</table>\n",
       "</div>"
      ],
      "text/plain": [
       "                        age_car\n",
       "make_model     age_car         \n",
       "Audi A1        1.0          1.0\n",
       "               2.0          2.0\n",
       "Audi A3        1.0          1.0\n",
       "               2.0          2.0\n",
       "Opel Astra     1.0          1.0\n",
       "               2.0          2.0\n",
       "Opel Corsa     1.0          1.0\n",
       "Opel Insignia  1.0          1.0\n",
       "               2.0          2.0\n",
       "Renault Clio   1.0          1.0\n",
       "               2.0          2.0\n",
       "               3.0          3.0\n",
       "Renault Espace 1.0          1.0\n",
       "               2.0          2.0"
      ]
     },
     "execution_count": 37,
     "metadata": {},
     "output_type": "execute_result"
    }
   ],
   "source": [
    "df[df[\"km\"].isnull()].groupby([\"make_model\", \"age_car\"])[\"make_model\", \"age_car\"].mean()"
   ]
  },
  {
   "cell_type": "code",
   "execution_count": 38,
   "metadata": {
    "scrolled": true
   },
   "outputs": [
    {
     "data": {
      "text/html": [
       "<div>\n",
       "<style scoped>\n",
       "    .dataframe tbody tr th:only-of-type {\n",
       "        vertical-align: middle;\n",
       "    }\n",
       "\n",
       "    .dataframe tbody tr th {\n",
       "        vertical-align: top;\n",
       "    }\n",
       "\n",
       "    .dataframe thead th {\n",
       "        text-align: right;\n",
       "    }\n",
       "</style>\n",
       "<table border=\"1\" class=\"dataframe\">\n",
       "  <thead>\n",
       "    <tr style=\"text-align: right;\">\n",
       "      <th></th>\n",
       "      <th>km</th>\n",
       "      <th>age_car</th>\n",
       "    </tr>\n",
       "    <tr>\n",
       "      <th>make_model</th>\n",
       "      <th></th>\n",
       "      <th></th>\n",
       "    </tr>\n",
       "  </thead>\n",
       "  <tbody>\n",
       "    <tr>\n",
       "      <th>Audi A1</th>\n",
       "      <td>23925.285173</td>\n",
       "      <td>2.527535</td>\n",
       "    </tr>\n",
       "    <tr>\n",
       "      <th>Audi A2</th>\n",
       "      <td>26166.000000</td>\n",
       "      <td>2.000000</td>\n",
       "    </tr>\n",
       "    <tr>\n",
       "      <th>Audi A3</th>\n",
       "      <td>40360.446866</td>\n",
       "      <td>2.642729</td>\n",
       "    </tr>\n",
       "    <tr>\n",
       "      <th>Opel Astra</th>\n",
       "      <td>39023.504641</td>\n",
       "      <td>2.512024</td>\n",
       "    </tr>\n",
       "    <tr>\n",
       "      <th>Opel Corsa</th>\n",
       "      <td>25616.984630</td>\n",
       "      <td>2.325254</td>\n",
       "    </tr>\n",
       "    <tr>\n",
       "      <th>Opel Insignia</th>\n",
       "      <td>42011.823230</td>\n",
       "      <td>2.629133</td>\n",
       "    </tr>\n",
       "    <tr>\n",
       "      <th>Renault Clio</th>\n",
       "      <td>30493.733524</td>\n",
       "      <td>2.564761</td>\n",
       "    </tr>\n",
       "    <tr>\n",
       "      <th>Renault Duster</th>\n",
       "      <td>101.000000</td>\n",
       "      <td>1.000000</td>\n",
       "    </tr>\n",
       "    <tr>\n",
       "      <th>Renault Espace</th>\n",
       "      <td>35152.019108</td>\n",
       "      <td>2.610811</td>\n",
       "    </tr>\n",
       "  </tbody>\n",
       "</table>\n",
       "</div>"
      ],
      "text/plain": [
       "                          km   age_car\n",
       "make_model                            \n",
       "Audi A1         23925.285173  2.527535\n",
       "Audi A2         26166.000000  2.000000\n",
       "Audi A3         40360.446866  2.642729\n",
       "Opel Astra      39023.504641  2.512024\n",
       "Opel Corsa      25616.984630  2.325254\n",
       "Opel Insignia   42011.823230  2.629133\n",
       "Renault Clio    30493.733524  2.564761\n",
       "Renault Duster    101.000000  1.000000\n",
       "Renault Espace  35152.019108  2.610811"
      ]
     },
     "execution_count": 38,
     "metadata": {},
     "output_type": "execute_result"
    }
   ],
   "source": [
    "df.groupby(\"make_model\")[[\"km\",\"make_model\",\"age_car\"]].mean()"
   ]
  },
  {
   "cell_type": "code",
   "execution_count": 39,
   "metadata": {},
   "outputs": [
    {
     "data": {
      "text/plain": [
       "2.0    4519\n",
       "4.0    3672\n",
       "3.0    3273\n",
       "1.0    2853\n",
       "Name: age_car, dtype: int64"
      ]
     },
     "execution_count": 39,
     "metadata": {},
     "output_type": "execute_result"
    }
   ],
   "source": [
    "df[\"age_car\"].value_counts()"
   ]
  },
  {
   "cell_type": "code",
   "execution_count": 40,
   "metadata": {},
   "outputs": [
    {
     "data": {
      "text/plain": [
       "1.0"
      ]
     },
     "execution_count": 40,
     "metadata": {},
     "output_type": "execute_result"
    }
   ],
   "source": [
    "df[\"age_car\"].min()"
   ]
  },
  {
   "cell_type": "code",
   "execution_count": 41,
   "metadata": {},
   "outputs": [
    {
     "data": {
      "text/plain": [
       "age_car\n",
       "1.0     2085.355137\n",
       "2.0    18036.896229\n",
       "3.0    41754.940709\n",
       "4.0    77462.679466\n",
       "Name: km, dtype: float64"
      ]
     },
     "execution_count": 41,
     "metadata": {},
     "output_type": "execute_result"
    }
   ],
   "source": [
    "df.groupby(\"age_car\")[\"km\"].mean()"
   ]
  },
  {
   "cell_type": "code",
   "execution_count": 42,
   "metadata": {},
   "outputs": [
    {
     "data": {
      "text/plain": [
       "make_model      age_car\n",
       "Audi A1         1.0         2494.501053\n",
       "                2.0        13785.852901\n",
       "                3.0        25821.712963\n",
       "                4.0        54332.286169\n",
       "Audi A2         2.0        26166.000000\n",
       "Audi A3         1.0         2126.757322\n",
       "                2.0        18421.587322\n",
       "                3.0        43853.140741\n",
       "                4.0        90133.488372\n",
       "Opel Astra      1.0         2915.672018\n",
       "                2.0        21442.708738\n",
       "                3.0        49981.778535\n",
       "                4.0        89134.265896\n",
       "Opel Corsa      1.0         1079.616514\n",
       "                2.0        17426.714495\n",
       "                3.0        39977.979058\n",
       "                4.0        62904.030303\n",
       "Opel Insignia   1.0         3483.250000\n",
       "                2.0        22193.801567\n",
       "                3.0        47732.103565\n",
       "                4.0        93187.985891\n",
       "Renault Clio    1.0          727.282946\n",
       "                2.0        15396.517730\n",
       "                3.0        36660.153318\n",
       "                4.0        68673.041363\n",
       "Renault Duster  1.0          101.000000\n",
       "Renault Espace  1.0         1755.752525\n",
       "                2.0        14203.599138\n",
       "                3.0        41886.635294\n",
       "                4.0        74400.566667\n",
       "Name: km, dtype: float64"
      ]
     },
     "execution_count": 42,
     "metadata": {},
     "output_type": "execute_result"
    }
   ],
   "source": [
    "df.groupby([\"make_model\",\"age_car\"])[\"km\"].mean()"
   ]
  },
  {
   "cell_type": "code",
   "execution_count": 43,
   "metadata": {},
   "outputs": [
    {
     "data": {
      "text/plain": [
       "make_model\n",
       "Audi A1           23925.285173\n",
       "Audi A2           26166.000000\n",
       "Audi A3           40360.446866\n",
       "Opel Astra        39023.504641\n",
       "Opel Corsa        25616.984630\n",
       "Opel Insignia     42011.823230\n",
       "Renault Clio      30493.733524\n",
       "Renault Duster      101.000000\n",
       "Renault Espace    35152.019108\n",
       "Name: km, dtype: float64"
      ]
     },
     "execution_count": 43,
     "metadata": {},
     "output_type": "execute_result"
    }
   ],
   "source": [
    "df.groupby([\"make_model\"])[\"km\"].mean()"
   ]
  },
  {
   "cell_type": "code",
   "execution_count": 44,
   "metadata": {},
   "outputs": [
    {
     "data": {
      "text/plain": [
       "array(['Audi A1', 'Audi A3', 'Opel Astra', 'Opel Corsa', 'Opel Insignia',\n",
       "       'Renault Clio', 'Renault Duster', 'Renault Espace'], dtype=object)"
      ]
     },
     "execution_count": 44,
     "metadata": {},
     "output_type": "execute_result"
    }
   ],
   "source": [
    "df[df[\"km\"].isnull()][\"make_model\"].unique()"
   ]
  },
  {
   "cell_type": "code",
   "execution_count": 45,
   "metadata": {},
   "outputs": [
    {
     "data": {
      "text/html": [
       "<div>\n",
       "<style scoped>\n",
       "    .dataframe tbody tr th:only-of-type {\n",
       "        vertical-align: middle;\n",
       "    }\n",
       "\n",
       "    .dataframe tbody tr th {\n",
       "        vertical-align: top;\n",
       "    }\n",
       "\n",
       "    .dataframe thead th {\n",
       "        text-align: right;\n",
       "    }\n",
       "</style>\n",
       "<table border=\"1\" class=\"dataframe\">\n",
       "  <thead>\n",
       "    <tr style=\"text-align: right;\">\n",
       "      <th></th>\n",
       "      <th>make_model</th>\n",
       "      <th>km</th>\n",
       "      <th>age_car</th>\n",
       "      <th>price</th>\n",
       "      <th>description</th>\n",
       "    </tr>\n",
       "  </thead>\n",
       "  <tbody>\n",
       "    <tr>\n",
       "      <th>14889</th>\n",
       "      <td>Renault Duster</td>\n",
       "      <td>NaN</td>\n",
       "      <td>NaN</td>\n",
       "      <td>13250</td>\n",
       "      <td>['\\n- EXPORT OUT EU TROPICAL VERSION', 'Prix T...</td>\n",
       "    </tr>\n",
       "    <tr>\n",
       "      <th>14890</th>\n",
       "      <td>Renault Duster</td>\n",
       "      <td>NaN</td>\n",
       "      <td>NaN</td>\n",
       "      <td>16033</td>\n",
       "      <td>['\\n', ' - EXPORT OUT EU TROPICAL VERSION', 'P...</td>\n",
       "    </tr>\n",
       "    <tr>\n",
       "      <th>14891</th>\n",
       "      <td>Renault Duster</td>\n",
       "      <td>101.0</td>\n",
       "      <td>1.0</td>\n",
       "      <td>16033</td>\n",
       "      <td>['\\n', ' - EXPORT OUT EU TROPICAL VERSION', 'P...</td>\n",
       "    </tr>\n",
       "    <tr>\n",
       "      <th>14892</th>\n",
       "      <td>Renault Duster</td>\n",
       "      <td>NaN</td>\n",
       "      <td>NaN</td>\n",
       "      <td>16033</td>\n",
       "      <td>['\\n- EXPORT OUT EU TROPICAL VERSION', 'Prix T...</td>\n",
       "    </tr>\n",
       "    <tr>\n",
       "      <th>14893</th>\n",
       "      <td>Renault Duster</td>\n",
       "      <td>101.0</td>\n",
       "      <td>1.0</td>\n",
       "      <td>16033</td>\n",
       "      <td>['\\n- EXPORT OUT EU TROPICAL VERSION', 'Prix T...</td>\n",
       "    </tr>\n",
       "    <tr>\n",
       "      <th>14894</th>\n",
       "      <td>Renault Duster</td>\n",
       "      <td>101.0</td>\n",
       "      <td>1.0</td>\n",
       "      <td>13250</td>\n",
       "      <td>['\\n', ' - EXPORT OUT EU TROPICAL VERSION', 'P...</td>\n",
       "    </tr>\n",
       "    <tr>\n",
       "      <th>14895</th>\n",
       "      <td>Renault Duster</td>\n",
       "      <td>NaN</td>\n",
       "      <td>NaN</td>\n",
       "      <td>13250</td>\n",
       "      <td>['\\n', ' - EXPORT OUT EU TROPICAL VERSION', 'P...</td>\n",
       "    </tr>\n",
       "    <tr>\n",
       "      <th>14896</th>\n",
       "      <td>Renault Duster</td>\n",
       "      <td>101.0</td>\n",
       "      <td>1.0</td>\n",
       "      <td>13250</td>\n",
       "      <td>['\\n- EXPORT OUT EU TROPICAL VERSION', 'Prix t...</td>\n",
       "    </tr>\n",
       "    <tr>\n",
       "      <th>14897</th>\n",
       "      <td>Renault Duster</td>\n",
       "      <td>NaN</td>\n",
       "      <td>NaN</td>\n",
       "      <td>10850</td>\n",
       "      <td>['\\nRENAULT DUSTER P1.6L 4x4 MT 2018', 'ONLY T...</td>\n",
       "    </tr>\n",
       "    <tr>\n",
       "      <th>14898</th>\n",
       "      <td>Renault Duster</td>\n",
       "      <td>101.0</td>\n",
       "      <td>1.0</td>\n",
       "      <td>14399</td>\n",
       "      <td>['\\n- EXPORT OUT EU TROPICAL VERSION', 'Prix T...</td>\n",
       "    </tr>\n",
       "    <tr>\n",
       "      <th>14899</th>\n",
       "      <td>Renault Duster</td>\n",
       "      <td>NaN</td>\n",
       "      <td>NaN</td>\n",
       "      <td>14399</td>\n",
       "      <td>['\\n- EXPORT OUT EU TROPICAL VERSION', 'Prix T...</td>\n",
       "    </tr>\n",
       "    <tr>\n",
       "      <th>14900</th>\n",
       "      <td>Renault Duster</td>\n",
       "      <td>NaN</td>\n",
       "      <td>NaN</td>\n",
       "      <td>13189</td>\n",
       "      <td>['\\n', ' - EXPORT OUT EU TROPICAL VERSION', 'P...</td>\n",
       "    </tr>\n",
       "    <tr>\n",
       "      <th>14901</th>\n",
       "      <td>Renault Duster</td>\n",
       "      <td>101.0</td>\n",
       "      <td>1.0</td>\n",
       "      <td>14823</td>\n",
       "      <td>['\\n', ' - EXPORT OUT EU TROPICAL VERSION', 'P...</td>\n",
       "    </tr>\n",
       "    <tr>\n",
       "      <th>14902</th>\n",
       "      <td>Renault Duster</td>\n",
       "      <td>101.0</td>\n",
       "      <td>1.0</td>\n",
       "      <td>14823</td>\n",
       "      <td>['\\n- EXPORT OUT EU TROPICAL VERSION', 'Prix T...</td>\n",
       "    </tr>\n",
       "    <tr>\n",
       "      <th>14903</th>\n",
       "      <td>Renault Duster</td>\n",
       "      <td>NaN</td>\n",
       "      <td>NaN</td>\n",
       "      <td>14823</td>\n",
       "      <td>['\\n', ' - EXPORT OUT EU TROPICAL VERSION', 'P...</td>\n",
       "    </tr>\n",
       "    <tr>\n",
       "      <th>14904</th>\n",
       "      <td>Renault Duster</td>\n",
       "      <td>NaN</td>\n",
       "      <td>NaN</td>\n",
       "      <td>14399</td>\n",
       "      <td>['\\n', ' - EXPORT OUT EU TROPICAL VERSION', 'P...</td>\n",
       "    </tr>\n",
       "    <tr>\n",
       "      <th>14905</th>\n",
       "      <td>Renault Duster</td>\n",
       "      <td>101.0</td>\n",
       "      <td>1.0</td>\n",
       "      <td>14399</td>\n",
       "      <td>['\\n', ' - EXPORT OUT EU TROPICAL VERSION', 'P...</td>\n",
       "    </tr>\n",
       "    <tr>\n",
       "      <th>14906</th>\n",
       "      <td>Renault Duster</td>\n",
       "      <td>NaN</td>\n",
       "      <td>NaN</td>\n",
       "      <td>14823</td>\n",
       "      <td>['\\n- EXPORT OUT EU TROPICAL VERSION', 'Prix T...</td>\n",
       "    </tr>\n",
       "    <tr>\n",
       "      <th>14907</th>\n",
       "      <td>Renault Duster</td>\n",
       "      <td>101.0</td>\n",
       "      <td>1.0</td>\n",
       "      <td>13189</td>\n",
       "      <td>['\\n', ' - EXPORT OUT EU TROPICAL VERSION', 'P...</td>\n",
       "    </tr>\n",
       "    <tr>\n",
       "      <th>14908</th>\n",
       "      <td>Renault Duster</td>\n",
       "      <td>NaN</td>\n",
       "      <td>NaN</td>\n",
       "      <td>13189</td>\n",
       "      <td>['\\n- EXPORT OUT EU TROPICAL VERSION', 'Prix T...</td>\n",
       "    </tr>\n",
       "    <tr>\n",
       "      <th>14909</th>\n",
       "      <td>Renault Duster</td>\n",
       "      <td>101.0</td>\n",
       "      <td>1.0</td>\n",
       "      <td>13189</td>\n",
       "      <td>['\\n- EXPORT OUT EU TROPICAL VERSION', 'Prix T...</td>\n",
       "    </tr>\n",
       "    <tr>\n",
       "      <th>14910</th>\n",
       "      <td>Renault Duster</td>\n",
       "      <td>101.0</td>\n",
       "      <td>1.0</td>\n",
       "      <td>12250</td>\n",
       "      <td>['\\n', ' - EXPORT OUT EU TROPICAL VERSION', 'P...</td>\n",
       "    </tr>\n",
       "    <tr>\n",
       "      <th>14911</th>\n",
       "      <td>Renault Duster</td>\n",
       "      <td>101.0</td>\n",
       "      <td>1.0</td>\n",
       "      <td>12250</td>\n",
       "      <td>['\\n- EXPORT OUT EU TROPICAL VERSION', 'Prix t...</td>\n",
       "    </tr>\n",
       "    <tr>\n",
       "      <th>14912</th>\n",
       "      <td>Renault Duster</td>\n",
       "      <td>NaN</td>\n",
       "      <td>NaN</td>\n",
       "      <td>12250</td>\n",
       "      <td>['\\n', ' - EXPORT OUT EU TROPICAL VERSION', 'P...</td>\n",
       "    </tr>\n",
       "    <tr>\n",
       "      <th>14913</th>\n",
       "      <td>Renault Duster</td>\n",
       "      <td>NaN</td>\n",
       "      <td>NaN</td>\n",
       "      <td>12250</td>\n",
       "      <td>['\\n- EXPORT OUT EU TROPICAL VERSION', 'Prix T...</td>\n",
       "    </tr>\n",
       "    <tr>\n",
       "      <th>14914</th>\n",
       "      <td>Renault Duster</td>\n",
       "      <td>NaN</td>\n",
       "      <td>NaN</td>\n",
       "      <td>11900</td>\n",
       "      <td>['\\n', ' - EXPORT OUT EU TROPICAL VERSION', 'P...</td>\n",
       "    </tr>\n",
       "    <tr>\n",
       "      <th>14915</th>\n",
       "      <td>Renault Duster</td>\n",
       "      <td>101.0</td>\n",
       "      <td>1.0</td>\n",
       "      <td>11900</td>\n",
       "      <td>['\\n', ' - EXPORT OUT EU TROPICAL VERSION', 'P...</td>\n",
       "    </tr>\n",
       "    <tr>\n",
       "      <th>14916</th>\n",
       "      <td>Renault Duster</td>\n",
       "      <td>NaN</td>\n",
       "      <td>NaN</td>\n",
       "      <td>12000</td>\n",
       "      <td>['\\n', '[FRENCH]', '\"INTERTRADE PROJECTS BELGI...</td>\n",
       "    </tr>\n",
       "    <tr>\n",
       "      <th>14917</th>\n",
       "      <td>Renault Duster</td>\n",
       "      <td>NaN</td>\n",
       "      <td>NaN</td>\n",
       "      <td>11900</td>\n",
       "      <td>['\\n- EXPORT OUT EU TROPICAL VERSION', 'Prix T...</td>\n",
       "    </tr>\n",
       "    <tr>\n",
       "      <th>14918</th>\n",
       "      <td>Renault Duster</td>\n",
       "      <td>101.0</td>\n",
       "      <td>1.0</td>\n",
       "      <td>11900</td>\n",
       "      <td>['\\n- EXPORT OUT EU TROPICAL VERSION', 'Prix t...</td>\n",
       "    </tr>\n",
       "    <tr>\n",
       "      <th>14919</th>\n",
       "      <td>Renault Duster</td>\n",
       "      <td>NaN</td>\n",
       "      <td>NaN</td>\n",
       "      <td>10900</td>\n",
       "      <td>['\\n', ' - EXPORT OUT EU TROPICAL VERSION', 'P...</td>\n",
       "    </tr>\n",
       "    <tr>\n",
       "      <th>14920</th>\n",
       "      <td>Renault Duster</td>\n",
       "      <td>101.0</td>\n",
       "      <td>1.0</td>\n",
       "      <td>10900</td>\n",
       "      <td>['\\n', ' - EXPORT OUT EU TROPICAL VERSION', 'P...</td>\n",
       "    </tr>\n",
       "    <tr>\n",
       "      <th>14921</th>\n",
       "      <td>Renault Duster</td>\n",
       "      <td>101.0</td>\n",
       "      <td>1.0</td>\n",
       "      <td>10900</td>\n",
       "      <td>['\\n- EXPORT OUT EU TROPICAL VERSION', 'Prix t...</td>\n",
       "    </tr>\n",
       "    <tr>\n",
       "      <th>14922</th>\n",
       "      <td>Renault Duster</td>\n",
       "      <td>NaN</td>\n",
       "      <td>NaN</td>\n",
       "      <td>10900</td>\n",
       "      <td>['\\n- EXPORT OUT EU TROPICAL VERSION', 'Prix T...</td>\n",
       "    </tr>\n",
       "  </tbody>\n",
       "</table>\n",
       "</div>"
      ],
      "text/plain": [
       "           make_model     km  age_car  price  \\\n",
       "14889  Renault Duster    NaN      NaN  13250   \n",
       "14890  Renault Duster    NaN      NaN  16033   \n",
       "14891  Renault Duster  101.0      1.0  16033   \n",
       "14892  Renault Duster    NaN      NaN  16033   \n",
       "14893  Renault Duster  101.0      1.0  16033   \n",
       "14894  Renault Duster  101.0      1.0  13250   \n",
       "14895  Renault Duster    NaN      NaN  13250   \n",
       "14896  Renault Duster  101.0      1.0  13250   \n",
       "14897  Renault Duster    NaN      NaN  10850   \n",
       "14898  Renault Duster  101.0      1.0  14399   \n",
       "14899  Renault Duster    NaN      NaN  14399   \n",
       "14900  Renault Duster    NaN      NaN  13189   \n",
       "14901  Renault Duster  101.0      1.0  14823   \n",
       "14902  Renault Duster  101.0      1.0  14823   \n",
       "14903  Renault Duster    NaN      NaN  14823   \n",
       "14904  Renault Duster    NaN      NaN  14399   \n",
       "14905  Renault Duster  101.0      1.0  14399   \n",
       "14906  Renault Duster    NaN      NaN  14823   \n",
       "14907  Renault Duster  101.0      1.0  13189   \n",
       "14908  Renault Duster    NaN      NaN  13189   \n",
       "14909  Renault Duster  101.0      1.0  13189   \n",
       "14910  Renault Duster  101.0      1.0  12250   \n",
       "14911  Renault Duster  101.0      1.0  12250   \n",
       "14912  Renault Duster    NaN      NaN  12250   \n",
       "14913  Renault Duster    NaN      NaN  12250   \n",
       "14914  Renault Duster    NaN      NaN  11900   \n",
       "14915  Renault Duster  101.0      1.0  11900   \n",
       "14916  Renault Duster    NaN      NaN  12000   \n",
       "14917  Renault Duster    NaN      NaN  11900   \n",
       "14918  Renault Duster  101.0      1.0  11900   \n",
       "14919  Renault Duster    NaN      NaN  10900   \n",
       "14920  Renault Duster  101.0      1.0  10900   \n",
       "14921  Renault Duster  101.0      1.0  10900   \n",
       "14922  Renault Duster    NaN      NaN  10900   \n",
       "\n",
       "                                             description  \n",
       "14889  ['\\n- EXPORT OUT EU TROPICAL VERSION', 'Prix T...  \n",
       "14890  ['\\n', ' - EXPORT OUT EU TROPICAL VERSION', 'P...  \n",
       "14891  ['\\n', ' - EXPORT OUT EU TROPICAL VERSION', 'P...  \n",
       "14892  ['\\n- EXPORT OUT EU TROPICAL VERSION', 'Prix T...  \n",
       "14893  ['\\n- EXPORT OUT EU TROPICAL VERSION', 'Prix T...  \n",
       "14894  ['\\n', ' - EXPORT OUT EU TROPICAL VERSION', 'P...  \n",
       "14895  ['\\n', ' - EXPORT OUT EU TROPICAL VERSION', 'P...  \n",
       "14896  ['\\n- EXPORT OUT EU TROPICAL VERSION', 'Prix t...  \n",
       "14897  ['\\nRENAULT DUSTER P1.6L 4x4 MT 2018', 'ONLY T...  \n",
       "14898  ['\\n- EXPORT OUT EU TROPICAL VERSION', 'Prix T...  \n",
       "14899  ['\\n- EXPORT OUT EU TROPICAL VERSION', 'Prix T...  \n",
       "14900  ['\\n', ' - EXPORT OUT EU TROPICAL VERSION', 'P...  \n",
       "14901  ['\\n', ' - EXPORT OUT EU TROPICAL VERSION', 'P...  \n",
       "14902  ['\\n- EXPORT OUT EU TROPICAL VERSION', 'Prix T...  \n",
       "14903  ['\\n', ' - EXPORT OUT EU TROPICAL VERSION', 'P...  \n",
       "14904  ['\\n', ' - EXPORT OUT EU TROPICAL VERSION', 'P...  \n",
       "14905  ['\\n', ' - EXPORT OUT EU TROPICAL VERSION', 'P...  \n",
       "14906  ['\\n- EXPORT OUT EU TROPICAL VERSION', 'Prix T...  \n",
       "14907  ['\\n', ' - EXPORT OUT EU TROPICAL VERSION', 'P...  \n",
       "14908  ['\\n- EXPORT OUT EU TROPICAL VERSION', 'Prix T...  \n",
       "14909  ['\\n- EXPORT OUT EU TROPICAL VERSION', 'Prix T...  \n",
       "14910  ['\\n', ' - EXPORT OUT EU TROPICAL VERSION', 'P...  \n",
       "14911  ['\\n- EXPORT OUT EU TROPICAL VERSION', 'Prix t...  \n",
       "14912  ['\\n', ' - EXPORT OUT EU TROPICAL VERSION', 'P...  \n",
       "14913  ['\\n- EXPORT OUT EU TROPICAL VERSION', 'Prix T...  \n",
       "14914  ['\\n', ' - EXPORT OUT EU TROPICAL VERSION', 'P...  \n",
       "14915  ['\\n', ' - EXPORT OUT EU TROPICAL VERSION', 'P...  \n",
       "14916  ['\\n', '[FRENCH]', '\"INTERTRADE PROJECTS BELGI...  \n",
       "14917  ['\\n- EXPORT OUT EU TROPICAL VERSION', 'Prix T...  \n",
       "14918  ['\\n- EXPORT OUT EU TROPICAL VERSION', 'Prix t...  \n",
       "14919  ['\\n', ' - EXPORT OUT EU TROPICAL VERSION', 'P...  \n",
       "14920  ['\\n', ' - EXPORT OUT EU TROPICAL VERSION', 'P...  \n",
       "14921  ['\\n- EXPORT OUT EU TROPICAL VERSION', 'Prix t...  \n",
       "14922  ['\\n- EXPORT OUT EU TROPICAL VERSION', 'Prix T...  "
      ]
     },
     "execution_count": 45,
     "metadata": {},
     "output_type": "execute_result"
    }
   ],
   "source": [
    "df[df[\"make_model\"] == 'Renault Duster'][[\"make_model\", \"km\",\"age_car\",\"price\",\"description\"]]"
   ]
  },
  {
   "cell_type": "code",
   "execution_count": 46,
   "metadata": {},
   "outputs": [
    {
     "data": {
      "text/plain": [
       "\"['\\\\n- EXPORT OUT EU TROPICAL VERSION', 'Prix total TTC (TVA sur la marge. Pour export)', 'Transport à travers le monde sur demande (VIP, RoRo, Container, Assurance)', 'Total price all inclusive (VAT margin. For export)', 'World Wide expedition (VIP, RoRo, Container, insurance)Principaux équipements', '*Allume cigare', '*Suspension renforcée', '*Fixation de siège enfant ISOFIX ', '*Volant réglable manuellement', '*Ceintures de sécurité avant et arrière', '*Dégivrage de la lunette arrière', '*Appuie-tte arrière & arrière', '*Ceintures de sécurité pour tous les sièges', '*3ème feu stop', '*Bote de vitesse automatique', 'Main standard equipment', '*Reinforced suspension', '*ISOFIX child seat attachment', '*Manually adjustable steering wheel', '*Front and rear seat belts', '*Rear defogger', '*Head rest front & back', '*Seat belt for all seats', '*3rd brake light', '*Automatic gear box', 'Garantie constructeur valable 12 mois.', 'Manufacturer warranty valid 12 month.More info on / Plus de renseignements sur ', '*FR https//www.transautomobile.com/fr/A-2235', '*EN https//www.transautomobile.com/en/A-2235', '*info@transauto.be', '*+32 2 352 01 31', ' ', '\\\\n']\""
      ]
     },
     "execution_count": 46,
     "metadata": {},
     "output_type": "execute_result"
    }
   ],
   "source": [
    "df[df[\"make_model\"] == 'Renault Duster'][\"description\"][14896]"
   ]
  },
  {
   "cell_type": "code",
   "execution_count": 47,
   "metadata": {},
   "outputs": [
    {
     "data": {
      "text/plain": [
       "\"['\\\\n- EXPORT OUT EU TROPICAL VERSION', 'Prix TVAC TVA 21% récupérable', 'Transport à travers le monde sur demande (VIP, RoRo, Container, Assurance)', 'Price TVAC refundable TAV (21%)', 'World Wide expedition (VIP, RoRo, Container, insurance)Principaux équipements', '*Allume cigare', '*Banquette arrière rabattable monobloc', '*Poignées de portes noires', '*Roue de secours', '*cric manuel', '*Suspension renforcée', '*Sièges tissu', '*Fixation de siège enfant ISOFIX ', '*Appuie-tte arrière', '*Volant réglable manuellement', 'Main standard equipment', '*Black door handles', '*Spare wheel', '*manual jack', '*Reinforced suspension', '*Fabric seats', '*ISOFIX child seat attachment', '*Rear headrest', '*Manually adjustable steering wheel', 'Garantie constructeur valable 12 mois.', 'Manufacturer warranty valid 12 month.More info on / Plus de renseignements sur ', '*FR https//www.transautomobile.com/fr/A-2368', '*EN https//www.transautomobile.com/en/A-2368', '*info@transauto.be', '*+32 2 352 01 31', ' ', '\\\\n']\""
      ]
     },
     "execution_count": 47,
     "metadata": {},
     "output_type": "execute_result"
    }
   ],
   "source": [
    "df[df[\"make_model\"] == 'Renault Duster'][\"description\"][14898]"
   ]
  },
  {
   "cell_type": "code",
   "execution_count": 50,
   "metadata": {},
   "outputs": [
    {
     "ename": "error",
     "evalue": "nothing to repeat at position 0",
     "output_type": "error",
     "traceback": [
      "\u001b[1;31m---------------------------------------------------------------------------\u001b[0m",
      "\u001b[1;31merror\u001b[0m                                     Traceback (most recent call last)",
      "\u001b[1;32m<ipython-input-50-dc6136c0199e>\u001b[0m in \u001b[0;36m<module>\u001b[1;34m\u001b[0m\n\u001b[1;32m----> 1\u001b[1;33m \u001b[0mdf\u001b[0m\u001b[1;33m[\u001b[0m\u001b[1;34m\"description\"\u001b[0m\u001b[1;33m]\u001b[0m\u001b[1;33m.\u001b[0m\u001b[0mstr\u001b[0m\u001b[1;33m[\u001b[0m\u001b[1;36m0\u001b[0m\u001b[1;33m]\u001b[0m\u001b[1;33m.\u001b[0m\u001b[0mstr\u001b[0m\u001b[1;33m.\u001b[0m\u001b[0mcontains\u001b[0m\u001b[1;33m(\u001b[0m\u001b[1;34m'*info@transauto.be'\u001b[0m\u001b[1;33m,\u001b[0m \u001b[0mregex\u001b[0m \u001b[1;33m=\u001b[0m \u001b[1;32mTrue\u001b[0m\u001b[1;33m)\u001b[0m\u001b[1;33m\u001b[0m\u001b[1;33m\u001b[0m\u001b[0m\n\u001b[0m",
      "\u001b[1;32mC:\\ProgramData\\Anaconda3\\lib\\site-packages\\pandas\\core\\strings.py\u001b[0m in \u001b[0;36mwrapper\u001b[1;34m(self, *args, **kwargs)\u001b[0m\n\u001b[0;32m   1950\u001b[0m                 )\n\u001b[0;32m   1951\u001b[0m                 \u001b[1;32mraise\u001b[0m \u001b[0mTypeError\u001b[0m\u001b[1;33m(\u001b[0m\u001b[0mmsg\u001b[0m\u001b[1;33m)\u001b[0m\u001b[1;33m\u001b[0m\u001b[1;33m\u001b[0m\u001b[0m\n\u001b[1;32m-> 1952\u001b[1;33m             \u001b[1;32mreturn\u001b[0m \u001b[0mfunc\u001b[0m\u001b[1;33m(\u001b[0m\u001b[0mself\u001b[0m\u001b[1;33m,\u001b[0m \u001b[1;33m*\u001b[0m\u001b[0margs\u001b[0m\u001b[1;33m,\u001b[0m \u001b[1;33m**\u001b[0m\u001b[0mkwargs\u001b[0m\u001b[1;33m)\u001b[0m\u001b[1;33m\u001b[0m\u001b[1;33m\u001b[0m\u001b[0m\n\u001b[0m\u001b[0;32m   1953\u001b[0m \u001b[1;33m\u001b[0m\u001b[0m\n\u001b[0;32m   1954\u001b[0m         \u001b[0mwrapper\u001b[0m\u001b[1;33m.\u001b[0m\u001b[0m__name__\u001b[0m \u001b[1;33m=\u001b[0m \u001b[0mfunc_name\u001b[0m\u001b[1;33m\u001b[0m\u001b[1;33m\u001b[0m\u001b[0m\n",
      "\u001b[1;32mC:\\ProgramData\\Anaconda3\\lib\\site-packages\\pandas\\core\\strings.py\u001b[0m in \u001b[0;36mcontains\u001b[1;34m(self, pat, case, flags, na, regex)\u001b[0m\n\u001b[0;32m   2759\u001b[0m     \u001b[1;32mdef\u001b[0m \u001b[0mcontains\u001b[0m\u001b[1;33m(\u001b[0m\u001b[0mself\u001b[0m\u001b[1;33m,\u001b[0m \u001b[0mpat\u001b[0m\u001b[1;33m,\u001b[0m \u001b[0mcase\u001b[0m\u001b[1;33m=\u001b[0m\u001b[1;32mTrue\u001b[0m\u001b[1;33m,\u001b[0m \u001b[0mflags\u001b[0m\u001b[1;33m=\u001b[0m\u001b[1;36m0\u001b[0m\u001b[1;33m,\u001b[0m \u001b[0mna\u001b[0m\u001b[1;33m=\u001b[0m\u001b[0mnp\u001b[0m\u001b[1;33m.\u001b[0m\u001b[0mnan\u001b[0m\u001b[1;33m,\u001b[0m \u001b[0mregex\u001b[0m\u001b[1;33m=\u001b[0m\u001b[1;32mTrue\u001b[0m\u001b[1;33m)\u001b[0m\u001b[1;33m:\u001b[0m\u001b[1;33m\u001b[0m\u001b[1;33m\u001b[0m\u001b[0m\n\u001b[0;32m   2760\u001b[0m         result = str_contains(\n\u001b[1;32m-> 2761\u001b[1;33m             \u001b[0mself\u001b[0m\u001b[1;33m.\u001b[0m\u001b[0m_parent\u001b[0m\u001b[1;33m,\u001b[0m \u001b[0mpat\u001b[0m\u001b[1;33m,\u001b[0m \u001b[0mcase\u001b[0m\u001b[1;33m=\u001b[0m\u001b[0mcase\u001b[0m\u001b[1;33m,\u001b[0m \u001b[0mflags\u001b[0m\u001b[1;33m=\u001b[0m\u001b[0mflags\u001b[0m\u001b[1;33m,\u001b[0m \u001b[0mna\u001b[0m\u001b[1;33m=\u001b[0m\u001b[0mna\u001b[0m\u001b[1;33m,\u001b[0m \u001b[0mregex\u001b[0m\u001b[1;33m=\u001b[0m\u001b[0mregex\u001b[0m\u001b[1;33m\u001b[0m\u001b[1;33m\u001b[0m\u001b[0m\n\u001b[0m\u001b[0;32m   2762\u001b[0m         )\n\u001b[0;32m   2763\u001b[0m         \u001b[1;32mreturn\u001b[0m \u001b[0mself\u001b[0m\u001b[1;33m.\u001b[0m\u001b[0m_wrap_result\u001b[0m\u001b[1;33m(\u001b[0m\u001b[0mresult\u001b[0m\u001b[1;33m,\u001b[0m \u001b[0mfill_value\u001b[0m\u001b[1;33m=\u001b[0m\u001b[0mna\u001b[0m\u001b[1;33m,\u001b[0m \u001b[0mreturns_string\u001b[0m\u001b[1;33m=\u001b[0m\u001b[1;32mFalse\u001b[0m\u001b[1;33m)\u001b[0m\u001b[1;33m\u001b[0m\u001b[1;33m\u001b[0m\u001b[0m\n",
      "\u001b[1;32mC:\\ProgramData\\Anaconda3\\lib\\site-packages\\pandas\\core\\strings.py\u001b[0m in \u001b[0;36mstr_contains\u001b[1;34m(arr, pat, case, flags, na, regex)\u001b[0m\n\u001b[0;32m    439\u001b[0m             \u001b[0mflags\u001b[0m \u001b[1;33m|=\u001b[0m \u001b[0mre\u001b[0m\u001b[1;33m.\u001b[0m\u001b[0mIGNORECASE\u001b[0m\u001b[1;33m\u001b[0m\u001b[1;33m\u001b[0m\u001b[0m\n\u001b[0;32m    440\u001b[0m \u001b[1;33m\u001b[0m\u001b[0m\n\u001b[1;32m--> 441\u001b[1;33m         \u001b[0mregex\u001b[0m \u001b[1;33m=\u001b[0m \u001b[0mre\u001b[0m\u001b[1;33m.\u001b[0m\u001b[0mcompile\u001b[0m\u001b[1;33m(\u001b[0m\u001b[0mpat\u001b[0m\u001b[1;33m,\u001b[0m \u001b[0mflags\u001b[0m\u001b[1;33m=\u001b[0m\u001b[0mflags\u001b[0m\u001b[1;33m)\u001b[0m\u001b[1;33m\u001b[0m\u001b[1;33m\u001b[0m\u001b[0m\n\u001b[0m\u001b[0;32m    442\u001b[0m \u001b[1;33m\u001b[0m\u001b[0m\n\u001b[0;32m    443\u001b[0m         \u001b[1;32mif\u001b[0m \u001b[0mregex\u001b[0m\u001b[1;33m.\u001b[0m\u001b[0mgroups\u001b[0m \u001b[1;33m>\u001b[0m \u001b[1;36m0\u001b[0m\u001b[1;33m:\u001b[0m\u001b[1;33m\u001b[0m\u001b[1;33m\u001b[0m\u001b[0m\n",
      "\u001b[1;32mC:\\ProgramData\\Anaconda3\\lib\\re.py\u001b[0m in \u001b[0;36mcompile\u001b[1;34m(pattern, flags)\u001b[0m\n\u001b[0;32m    232\u001b[0m \u001b[1;32mdef\u001b[0m \u001b[0mcompile\u001b[0m\u001b[1;33m(\u001b[0m\u001b[0mpattern\u001b[0m\u001b[1;33m,\u001b[0m \u001b[0mflags\u001b[0m\u001b[1;33m=\u001b[0m\u001b[1;36m0\u001b[0m\u001b[1;33m)\u001b[0m\u001b[1;33m:\u001b[0m\u001b[1;33m\u001b[0m\u001b[1;33m\u001b[0m\u001b[0m\n\u001b[0;32m    233\u001b[0m     \u001b[1;34m\"Compile a regular expression pattern, returning a Pattern object.\"\u001b[0m\u001b[1;33m\u001b[0m\u001b[1;33m\u001b[0m\u001b[0m\n\u001b[1;32m--> 234\u001b[1;33m     \u001b[1;32mreturn\u001b[0m \u001b[0m_compile\u001b[0m\u001b[1;33m(\u001b[0m\u001b[0mpattern\u001b[0m\u001b[1;33m,\u001b[0m \u001b[0mflags\u001b[0m\u001b[1;33m)\u001b[0m\u001b[1;33m\u001b[0m\u001b[1;33m\u001b[0m\u001b[0m\n\u001b[0m\u001b[0;32m    235\u001b[0m \u001b[1;33m\u001b[0m\u001b[0m\n\u001b[0;32m    236\u001b[0m \u001b[1;32mdef\u001b[0m \u001b[0mpurge\u001b[0m\u001b[1;33m(\u001b[0m\u001b[1;33m)\u001b[0m\u001b[1;33m:\u001b[0m\u001b[1;33m\u001b[0m\u001b[1;33m\u001b[0m\u001b[0m\n",
      "\u001b[1;32mC:\\ProgramData\\Anaconda3\\lib\\re.py\u001b[0m in \u001b[0;36m_compile\u001b[1;34m(pattern, flags)\u001b[0m\n\u001b[0;32m    284\u001b[0m     \u001b[1;32mif\u001b[0m \u001b[1;32mnot\u001b[0m \u001b[0msre_compile\u001b[0m\u001b[1;33m.\u001b[0m\u001b[0misstring\u001b[0m\u001b[1;33m(\u001b[0m\u001b[0mpattern\u001b[0m\u001b[1;33m)\u001b[0m\u001b[1;33m:\u001b[0m\u001b[1;33m\u001b[0m\u001b[1;33m\u001b[0m\u001b[0m\n\u001b[0;32m    285\u001b[0m         \u001b[1;32mraise\u001b[0m \u001b[0mTypeError\u001b[0m\u001b[1;33m(\u001b[0m\u001b[1;34m\"first argument must be string or compiled pattern\"\u001b[0m\u001b[1;33m)\u001b[0m\u001b[1;33m\u001b[0m\u001b[1;33m\u001b[0m\u001b[0m\n\u001b[1;32m--> 286\u001b[1;33m     \u001b[0mp\u001b[0m \u001b[1;33m=\u001b[0m \u001b[0msre_compile\u001b[0m\u001b[1;33m.\u001b[0m\u001b[0mcompile\u001b[0m\u001b[1;33m(\u001b[0m\u001b[0mpattern\u001b[0m\u001b[1;33m,\u001b[0m \u001b[0mflags\u001b[0m\u001b[1;33m)\u001b[0m\u001b[1;33m\u001b[0m\u001b[1;33m\u001b[0m\u001b[0m\n\u001b[0m\u001b[0;32m    287\u001b[0m     \u001b[1;32mif\u001b[0m \u001b[1;32mnot\u001b[0m \u001b[1;33m(\u001b[0m\u001b[0mflags\u001b[0m \u001b[1;33m&\u001b[0m \u001b[0mDEBUG\u001b[0m\u001b[1;33m)\u001b[0m\u001b[1;33m:\u001b[0m\u001b[1;33m\u001b[0m\u001b[1;33m\u001b[0m\u001b[0m\n\u001b[0;32m    288\u001b[0m         \u001b[1;32mif\u001b[0m \u001b[0mlen\u001b[0m\u001b[1;33m(\u001b[0m\u001b[0m_cache\u001b[0m\u001b[1;33m)\u001b[0m \u001b[1;33m>=\u001b[0m \u001b[0m_MAXCACHE\u001b[0m\u001b[1;33m:\u001b[0m\u001b[1;33m\u001b[0m\u001b[1;33m\u001b[0m\u001b[0m\n",
      "\u001b[1;32mC:\\ProgramData\\Anaconda3\\lib\\sre_compile.py\u001b[0m in \u001b[0;36mcompile\u001b[1;34m(p, flags)\u001b[0m\n\u001b[0;32m    762\u001b[0m     \u001b[1;32mif\u001b[0m \u001b[0misstring\u001b[0m\u001b[1;33m(\u001b[0m\u001b[0mp\u001b[0m\u001b[1;33m)\u001b[0m\u001b[1;33m:\u001b[0m\u001b[1;33m\u001b[0m\u001b[1;33m\u001b[0m\u001b[0m\n\u001b[0;32m    763\u001b[0m         \u001b[0mpattern\u001b[0m \u001b[1;33m=\u001b[0m \u001b[0mp\u001b[0m\u001b[1;33m\u001b[0m\u001b[1;33m\u001b[0m\u001b[0m\n\u001b[1;32m--> 764\u001b[1;33m         \u001b[0mp\u001b[0m \u001b[1;33m=\u001b[0m \u001b[0msre_parse\u001b[0m\u001b[1;33m.\u001b[0m\u001b[0mparse\u001b[0m\u001b[1;33m(\u001b[0m\u001b[0mp\u001b[0m\u001b[1;33m,\u001b[0m \u001b[0mflags\u001b[0m\u001b[1;33m)\u001b[0m\u001b[1;33m\u001b[0m\u001b[1;33m\u001b[0m\u001b[0m\n\u001b[0m\u001b[0;32m    765\u001b[0m     \u001b[1;32melse\u001b[0m\u001b[1;33m:\u001b[0m\u001b[1;33m\u001b[0m\u001b[1;33m\u001b[0m\u001b[0m\n\u001b[0;32m    766\u001b[0m         \u001b[0mpattern\u001b[0m \u001b[1;33m=\u001b[0m \u001b[1;32mNone\u001b[0m\u001b[1;33m\u001b[0m\u001b[1;33m\u001b[0m\u001b[0m\n",
      "\u001b[1;32mC:\\ProgramData\\Anaconda3\\lib\\sre_parse.py\u001b[0m in \u001b[0;36mparse\u001b[1;34m(str, flags, pattern)\u001b[0m\n\u001b[0;32m    922\u001b[0m \u001b[1;33m\u001b[0m\u001b[0m\n\u001b[0;32m    923\u001b[0m     \u001b[1;32mtry\u001b[0m\u001b[1;33m:\u001b[0m\u001b[1;33m\u001b[0m\u001b[1;33m\u001b[0m\u001b[0m\n\u001b[1;32m--> 924\u001b[1;33m         \u001b[0mp\u001b[0m \u001b[1;33m=\u001b[0m \u001b[0m_parse_sub\u001b[0m\u001b[1;33m(\u001b[0m\u001b[0msource\u001b[0m\u001b[1;33m,\u001b[0m \u001b[0mpattern\u001b[0m\u001b[1;33m,\u001b[0m \u001b[0mflags\u001b[0m \u001b[1;33m&\u001b[0m \u001b[0mSRE_FLAG_VERBOSE\u001b[0m\u001b[1;33m,\u001b[0m \u001b[1;36m0\u001b[0m\u001b[1;33m)\u001b[0m\u001b[1;33m\u001b[0m\u001b[1;33m\u001b[0m\u001b[0m\n\u001b[0m\u001b[0;32m    925\u001b[0m     \u001b[1;32mexcept\u001b[0m \u001b[0mVerbose\u001b[0m\u001b[1;33m:\u001b[0m\u001b[1;33m\u001b[0m\u001b[1;33m\u001b[0m\u001b[0m\n\u001b[0;32m    926\u001b[0m         \u001b[1;31m# the VERBOSE flag was switched on inside the pattern.  to be\u001b[0m\u001b[1;33m\u001b[0m\u001b[1;33m\u001b[0m\u001b[1;33m\u001b[0m\u001b[0m\n",
      "\u001b[1;32mC:\\ProgramData\\Anaconda3\\lib\\sre_parse.py\u001b[0m in \u001b[0;36m_parse_sub\u001b[1;34m(source, state, verbose, nested)\u001b[0m\n\u001b[0;32m    418\u001b[0m     \u001b[1;32mwhile\u001b[0m \u001b[1;32mTrue\u001b[0m\u001b[1;33m:\u001b[0m\u001b[1;33m\u001b[0m\u001b[1;33m\u001b[0m\u001b[0m\n\u001b[0;32m    419\u001b[0m         itemsappend(_parse(source, state, verbose, nested + 1,\n\u001b[1;32m--> 420\u001b[1;33m                            not nested and not items))\n\u001b[0m\u001b[0;32m    421\u001b[0m         \u001b[1;32mif\u001b[0m \u001b[1;32mnot\u001b[0m \u001b[0msourcematch\u001b[0m\u001b[1;33m(\u001b[0m\u001b[1;34m\"|\"\u001b[0m\u001b[1;33m)\u001b[0m\u001b[1;33m:\u001b[0m\u001b[1;33m\u001b[0m\u001b[1;33m\u001b[0m\u001b[0m\n\u001b[0;32m    422\u001b[0m             \u001b[1;32mbreak\u001b[0m\u001b[1;33m\u001b[0m\u001b[1;33m\u001b[0m\u001b[0m\n",
      "\u001b[1;32mC:\\ProgramData\\Anaconda3\\lib\\sre_parse.py\u001b[0m in \u001b[0;36m_parse\u001b[1;34m(source, state, verbose, nested, first)\u001b[0m\n\u001b[0;32m    643\u001b[0m             \u001b[1;32mif\u001b[0m \u001b[1;32mnot\u001b[0m \u001b[0mitem\u001b[0m \u001b[1;32mor\u001b[0m \u001b[0mitem\u001b[0m\u001b[1;33m[\u001b[0m\u001b[1;36m0\u001b[0m\u001b[1;33m]\u001b[0m\u001b[1;33m[\u001b[0m\u001b[1;36m0\u001b[0m\u001b[1;33m]\u001b[0m \u001b[1;32mis\u001b[0m \u001b[0mAT\u001b[0m\u001b[1;33m:\u001b[0m\u001b[1;33m\u001b[0m\u001b[1;33m\u001b[0m\u001b[0m\n\u001b[0;32m    644\u001b[0m                 raise source.error(\"nothing to repeat\",\n\u001b[1;32m--> 645\u001b[1;33m                                    source.tell() - here + len(this))\n\u001b[0m\u001b[0;32m    646\u001b[0m             \u001b[1;32mif\u001b[0m \u001b[0mitem\u001b[0m\u001b[1;33m[\u001b[0m\u001b[1;36m0\u001b[0m\u001b[1;33m]\u001b[0m\u001b[1;33m[\u001b[0m\u001b[1;36m0\u001b[0m\u001b[1;33m]\u001b[0m \u001b[1;32min\u001b[0m \u001b[0m_REPEATCODES\u001b[0m\u001b[1;33m:\u001b[0m\u001b[1;33m\u001b[0m\u001b[1;33m\u001b[0m\u001b[0m\n\u001b[0;32m    647\u001b[0m                 raise source.error(\"multiple repeat\",\n",
      "\u001b[1;31merror\u001b[0m: nothing to repeat at position 0"
     ]
    }
   ],
   "source": [
    "df[\"description\"].str[0].str.contains('*info@transauto.be', regex = True)"
   ]
  },
  {
   "cell_type": "markdown",
   "metadata": {},
   "source": [
    "##Not : aynı tlf numarasından aynı e mail numarasından verilmis bir birine cok yakın arclar var"
   ]
  },
  {
   "cell_type": "code",
   "execution_count": null,
   "metadata": {},
   "outputs": [],
   "source": []
  },
  {
   "cell_type": "markdown",
   "metadata": {},
   "source": [
    "km Nan larından hepsinin marka modeli dolu"
   ]
  },
  {
   "cell_type": "code",
   "execution_count": null,
   "metadata": {},
   "outputs": [],
   "source": [
    "df[df[\"km\"].isnull()][\"make_model\"].isnull().sum()"
   ]
  },
  {
   "cell_type": "code",
   "execution_count": null,
   "metadata": {},
   "outputs": [],
   "source": [
    "df[df[\"make_model\"] == \"Audi A1\"][\"km\"].min()"
   ]
  },
  {
   "cell_type": "code",
   "execution_count": null,
   "metadata": {},
   "outputs": [],
   "source": [
    "df[df[\"km\"] == 0][[\"km\" ,\"age_car\", \"make_model\"]]"
   ]
  },
  {
   "cell_type": "markdown",
   "metadata": {},
   "source": [
    "km si 0 olanların yasını 0 yaptım"
   ]
  },
  {
   "cell_type": "code",
   "execution_count": null,
   "metadata": {},
   "outputs": [],
   "source": [
    "for index in df[df[\"km\"] == 0][[\"km\" ,\"age_car\"]].index:\n",
    "    \n",
    "     df.loc[index, \"age_car\"] = 0.0"
   ]
  },
  {
   "cell_type": "code",
   "execution_count": null,
   "metadata": {},
   "outputs": [],
   "source": [
    "df.km.isnull().sum()"
   ]
  },
  {
   "cell_type": "code",
   "execution_count": null,
   "metadata": {},
   "outputs": [],
   "source": []
  },
  {
   "cell_type": "code",
   "execution_count": null,
   "metadata": {},
   "outputs": [],
   "source": []
  },
  {
   "cell_type": "code",
   "execution_count": null,
   "metadata": {},
   "outputs": [],
   "source": []
  },
  {
   "cell_type": "code",
   "execution_count": null,
   "metadata": {},
   "outputs": [],
   "source": []
  },
  {
   "cell_type": "code",
   "execution_count": null,
   "metadata": {},
   "outputs": [],
   "source": []
  },
  {
   "cell_type": "code",
   "execution_count": null,
   "metadata": {},
   "outputs": [],
   "source": []
  },
  {
   "cell_type": "code",
   "execution_count": null,
   "metadata": {},
   "outputs": [],
   "source": []
  },
  {
   "cell_type": "code",
   "execution_count": null,
   "metadata": {},
   "outputs": [],
   "source": []
  },
  {
   "cell_type": "code",
   "execution_count": null,
   "metadata": {},
   "outputs": [],
   "source": []
  },
  {
   "cell_type": "code",
   "execution_count": null,
   "metadata": {},
   "outputs": [],
   "source": [
    "df[\"Next Inspection\"].unique()"
   ]
  },
  {
   "cell_type": "code",
   "execution_count": null,
   "metadata": {},
   "outputs": [],
   "source": []
  },
  {
   "cell_type": "code",
   "execution_count": null,
   "metadata": {},
   "outputs": [],
   "source": []
  },
  {
   "cell_type": "markdown",
   "metadata": {},
   "source": [
    "k=[\"\".join(item).strip() if type(item) == list else item for item in oto[\"Next Inspection\"]]"
   ]
  },
  {
   "cell_type": "markdown",
   "metadata": {},
   "source": [
    "\n",
    "Joseph - Instructor  8:10 PM\n",
    "nxtins = [\"\".join(item).strip() if type(item) == list else item for item in oto[\"Next Inspection\"]]"
   ]
  },
  {
   "cell_type": "code",
   "execution_count": null,
   "metadata": {},
   "outputs": [],
   "source": []
  }
 ],
 "metadata": {
  "kernelspec": {
   "display_name": "Python 3",
   "language": "python",
   "name": "python3"
  },
  "language_info": {
   "codemirror_mode": {
    "name": "ipython",
    "version": 3
   },
   "file_extension": ".py",
   "mimetype": "text/x-python",
   "name": "python",
   "nbconvert_exporter": "python",
   "pygments_lexer": "ipython3",
   "version": "3.7.6"
  }
 },
 "nbformat": 4,
 "nbformat_minor": 4
}

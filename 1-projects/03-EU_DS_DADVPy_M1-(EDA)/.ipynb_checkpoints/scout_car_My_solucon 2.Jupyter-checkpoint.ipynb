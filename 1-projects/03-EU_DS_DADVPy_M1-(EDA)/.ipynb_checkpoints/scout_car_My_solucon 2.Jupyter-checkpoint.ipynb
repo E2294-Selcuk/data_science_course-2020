{
 "cells": [
  {
   "cell_type": "code",
   "execution_count": 1,
   "metadata": {},
   "outputs": [],
   "source": [
    "import pandas as pd\n",
    "import numpy as np\n",
    "import re"
   ]
  },
  {
   "cell_type": "code",
   "execution_count": 2,
   "metadata": {},
   "outputs": [],
   "source": [
    "df = pd.read_csv(\"scout_car_My_solucon 1.Jupyter.csv\")"
   ]
  },
  {
   "cell_type": "code",
   "execution_count": 3,
   "metadata": {},
   "outputs": [
    {
     "data": {
      "text/html": [
       "<div>\n",
       "<style scoped>\n",
       "    .dataframe tbody tr th:only-of-type {\n",
       "        vertical-align: middle;\n",
       "    }\n",
       "\n",
       "    .dataframe tbody tr th {\n",
       "        vertical-align: top;\n",
       "    }\n",
       "\n",
       "    .dataframe thead th {\n",
       "        text-align: right;\n",
       "    }\n",
       "</style>\n",
       "<table border=\"1\" class=\"dataframe\">\n",
       "  <thead>\n",
       "    <tr style=\"text-align: right;\">\n",
       "      <th></th>\n",
       "      <th>Unnamed: 0</th>\n",
       "      <th>make_model</th>\n",
       "      <th>short_description</th>\n",
       "      <th>body_type</th>\n",
       "      <th>price</th>\n",
       "      <th>vat</th>\n",
       "      <th>km</th>\n",
       "      <th>registration</th>\n",
       "      <th>prev_owner</th>\n",
       "      <th>hp</th>\n",
       "      <th>...</th>\n",
       "      <th>Safety &amp; Security</th>\n",
       "      <th>description</th>\n",
       "      <th>Emission Label</th>\n",
       "      <th>Gears</th>\n",
       "      <th>Country version</th>\n",
       "      <th>Now</th>\n",
       "      <th>age_car</th>\n",
       "      <th>Consumption_comb</th>\n",
       "      <th>Consumption_city</th>\n",
       "      <th>Consumption_country</th>\n",
       "    </tr>\n",
       "  </thead>\n",
       "  <tbody>\n",
       "    <tr>\n",
       "      <th>0</th>\n",
       "      <td>0</td>\n",
       "      <td>Audi A1</td>\n",
       "      <td>Sportback 1.4 TDI S-tronic Xenon Navi Klima</td>\n",
       "      <td>Sedans</td>\n",
       "      <td>15770</td>\n",
       "      <td>VAT deductible</td>\n",
       "      <td>56013.0</td>\n",
       "      <td>01/2016</td>\n",
       "      <td>2.0</td>\n",
       "      <td>66</td>\n",
       "      <td>...</td>\n",
       "      <td>['ABS', 'Central door lock', 'Daytime running ...</td>\n",
       "      <td>['\\n', 'Sicherheit:', ' ', 'Deaktivierung für ...</td>\n",
       "      <td>NaN</td>\n",
       "      <td>NaN</td>\n",
       "      <td>NaN</td>\n",
       "      <td>2020</td>\n",
       "      <td>4.0</td>\n",
       "      <td>3.8</td>\n",
       "      <td>4.3</td>\n",
       "      <td>3.5</td>\n",
       "    </tr>\n",
       "    <tr>\n",
       "      <th>1</th>\n",
       "      <td>1</td>\n",
       "      <td>Audi A1</td>\n",
       "      <td>1.8 TFSI sport</td>\n",
       "      <td>Sedans</td>\n",
       "      <td>14500</td>\n",
       "      <td>Price negotiable</td>\n",
       "      <td>80000.0</td>\n",
       "      <td>03/2017</td>\n",
       "      <td>NaN</td>\n",
       "      <td>66</td>\n",
       "      <td>...</td>\n",
       "      <td>['ABS', 'Central door lock', 'Central door loc...</td>\n",
       "      <td>['\\nLangstreckenfahrzeug daher die hohe Kilome...</td>\n",
       "      <td>Green</td>\n",
       "      <td>7.0</td>\n",
       "      <td>NaN</td>\n",
       "      <td>2020</td>\n",
       "      <td>3.0</td>\n",
       "      <td>5.6</td>\n",
       "      <td>7.1</td>\n",
       "      <td>4.7</td>\n",
       "    </tr>\n",
       "  </tbody>\n",
       "</table>\n",
       "<p>2 rows × 47 columns</p>\n",
       "</div>"
      ],
      "text/plain": [
       "   Unnamed: 0 make_model                            short_description  \\\n",
       "0           0    Audi A1  Sportback 1.4 TDI S-tronic Xenon Navi Klima   \n",
       "1           1    Audi A1                               1.8 TFSI sport   \n",
       "\n",
       "  body_type  price               vat       km registration  prev_owner  hp  \\\n",
       "0    Sedans  15770    VAT deductible  56013.0      01/2016         2.0  66   \n",
       "1    Sedans  14500  Price negotiable  80000.0      03/2017         NaN  66   \n",
       "\n",
       "   ...                                  Safety & Security  \\\n",
       "0  ...  ['ABS', 'Central door lock', 'Daytime running ...   \n",
       "1  ...  ['ABS', 'Central door lock', 'Central door loc...   \n",
       "\n",
       "                                         description  Emission Label Gears  \\\n",
       "0  ['\\n', 'Sicherheit:', ' ', 'Deaktivierung für ...             NaN   NaN   \n",
       "1  ['\\nLangstreckenfahrzeug daher die hohe Kilome...           Green   7.0   \n",
       "\n",
       "  Country version   Now age_car  Consumption_comb Consumption_city  \\\n",
       "0             NaN  2020     4.0               3.8              4.3   \n",
       "1             NaN  2020     3.0               5.6              7.1   \n",
       "\n",
       "  Consumption_country  \n",
       "0                 3.5  \n",
       "1                 4.7  \n",
       "\n",
       "[2 rows x 47 columns]"
      ]
     },
     "execution_count": 3,
     "metadata": {},
     "output_type": "execute_result"
    }
   ],
   "source": [
    "df.head(2)"
   ]
  },
  {
   "cell_type": "markdown",
   "metadata": {},
   "source": [
    "# Missingler le mücadele"
   ]
  },
  {
   "cell_type": "code",
   "execution_count": 4,
   "metadata": {},
   "outputs": [
    {
     "data": {
      "text/html": [
       "<div>\n",
       "<style scoped>\n",
       "    .dataframe tbody tr th:only-of-type {\n",
       "        vertical-align: middle;\n",
       "    }\n",
       "\n",
       "    .dataframe tbody tr th {\n",
       "        vertical-align: top;\n",
       "    }\n",
       "\n",
       "    .dataframe thead th {\n",
       "        text-align: right;\n",
       "    }\n",
       "</style>\n",
       "<table border=\"1\" class=\"dataframe\">\n",
       "  <thead>\n",
       "    <tr style=\"text-align: right;\">\n",
       "      <th></th>\n",
       "      <th>make_model</th>\n",
       "    </tr>\n",
       "  </thead>\n",
       "  <tbody>\n",
       "    <tr>\n",
       "      <th>0</th>\n",
       "      <td>Audi A1</td>\n",
       "    </tr>\n",
       "    <tr>\n",
       "      <th>1</th>\n",
       "      <td>Audi A1</td>\n",
       "    </tr>\n",
       "    <tr>\n",
       "      <th>2</th>\n",
       "      <td>Audi A1</td>\n",
       "    </tr>\n",
       "    <tr>\n",
       "      <th>3</th>\n",
       "      <td>Audi A1</td>\n",
       "    </tr>\n",
       "    <tr>\n",
       "      <th>4</th>\n",
       "      <td>Audi A1</td>\n",
       "    </tr>\n",
       "    <tr>\n",
       "      <th>...</th>\n",
       "      <td>...</td>\n",
       "    </tr>\n",
       "    <tr>\n",
       "      <th>15914</th>\n",
       "      <td>Renault Espace</td>\n",
       "    </tr>\n",
       "    <tr>\n",
       "      <th>15915</th>\n",
       "      <td>Renault Espace</td>\n",
       "    </tr>\n",
       "    <tr>\n",
       "      <th>15916</th>\n",
       "      <td>Renault Espace</td>\n",
       "    </tr>\n",
       "    <tr>\n",
       "      <th>15917</th>\n",
       "      <td>Renault Espace</td>\n",
       "    </tr>\n",
       "    <tr>\n",
       "      <th>15918</th>\n",
       "      <td>Renault Espace</td>\n",
       "    </tr>\n",
       "  </tbody>\n",
       "</table>\n",
       "<p>15919 rows × 1 columns</p>\n",
       "</div>"
      ],
      "text/plain": [
       "           make_model\n",
       "0             Audi A1\n",
       "1             Audi A1\n",
       "2             Audi A1\n",
       "3             Audi A1\n",
       "4             Audi A1\n",
       "...               ...\n",
       "15914  Renault Espace\n",
       "15915  Renault Espace\n",
       "15916  Renault Espace\n",
       "15917  Renault Espace\n",
       "15918  Renault Espace\n",
       "\n",
       "[15919 rows x 1 columns]"
      ]
     },
     "execution_count": 4,
     "metadata": {},
     "output_type": "execute_result"
    }
   ],
   "source": [
    "df.iloc[:,[1]]"
   ]
  },
  {
   "cell_type": "code",
   "execution_count": 5,
   "metadata": {},
   "outputs": [
    {
     "data": {
      "text/plain": [
       "Audi A3           3097\n",
       "Audi A1           2614\n",
       "Opel Insignia     2598\n",
       "Opel Astra        2526\n",
       "Opel Corsa        2219\n",
       "Renault Clio      1839\n",
       "Renault Espace     991\n",
       "Renault Duster      34\n",
       "Audi A2              1\n",
       "Name: make_model, dtype: int64"
      ]
     },
     "execution_count": 5,
     "metadata": {},
     "output_type": "execute_result"
    }
   ],
   "source": [
    "df[\"make_model\"].value_counts(dropna=True)"
   ]
  },
  {
   "cell_type": "code",
   "execution_count": 6,
   "metadata": {},
   "outputs": [
    {
     "data": {
      "text/plain": [
       "0"
      ]
     },
     "execution_count": 6,
     "metadata": {},
     "output_type": "execute_result"
    }
   ],
   "source": [
    "df[\"make_model\"].isnull().sum()"
   ]
  },
  {
   "cell_type": "markdown",
   "metadata": {},
   "source": [
    "### df[\"short_description\"] Aracın genel  özellikleriyle karsılastır"
   ]
  },
  {
   "cell_type": "code",
   "execution_count": null,
   "metadata": {},
   "outputs": [],
   "source": []
  },
  {
   "cell_type": "code",
   "execution_count": 7,
   "metadata": {},
   "outputs": [
    {
     "data": {
      "text/html": [
       "<div>\n",
       "<style scoped>\n",
       "    .dataframe tbody tr th:only-of-type {\n",
       "        vertical-align: middle;\n",
       "    }\n",
       "\n",
       "    .dataframe tbody tr th {\n",
       "        vertical-align: top;\n",
       "    }\n",
       "\n",
       "    .dataframe thead th {\n",
       "        text-align: right;\n",
       "    }\n",
       "</style>\n",
       "<table border=\"1\" class=\"dataframe\">\n",
       "  <thead>\n",
       "    <tr style=\"text-align: right;\">\n",
       "      <th></th>\n",
       "      <th>short_description</th>\n",
       "    </tr>\n",
       "  </thead>\n",
       "  <tbody>\n",
       "    <tr>\n",
       "      <th>0</th>\n",
       "      <td>Sportback 1.4 TDI S-tronic Xenon Navi Klima</td>\n",
       "    </tr>\n",
       "    <tr>\n",
       "      <th>1</th>\n",
       "      <td>1.8 TFSI sport</td>\n",
       "    </tr>\n",
       "    <tr>\n",
       "      <th>2</th>\n",
       "      <td>Sportback 1.6 TDI S tronic Einparkhilfe plus+m...</td>\n",
       "    </tr>\n",
       "    <tr>\n",
       "      <th>3</th>\n",
       "      <td>1.4 TDi Design S tronic</td>\n",
       "    </tr>\n",
       "    <tr>\n",
       "      <th>4</th>\n",
       "      <td>Sportback 1.4 TDI S-Tronic S-Line Ext. admired...</td>\n",
       "    </tr>\n",
       "    <tr>\n",
       "      <th>...</th>\n",
       "      <td>...</td>\n",
       "    </tr>\n",
       "    <tr>\n",
       "      <th>15914</th>\n",
       "      <td>Blue dCi 200CV EDC Executive 4Control</td>\n",
       "    </tr>\n",
       "    <tr>\n",
       "      <th>15915</th>\n",
       "      <td>TCe 225 EDC GPF LIM Deluxe Pano,RFK</td>\n",
       "    </tr>\n",
       "    <tr>\n",
       "      <th>15916</th>\n",
       "      <td>Blue dCi 200 EDC Initiale Paris Leder LED Navi...</td>\n",
       "    </tr>\n",
       "    <tr>\n",
       "      <th>15917</th>\n",
       "      <td>Blue dCi 200CV EDC Business , NUOVA DA IMMATRI...</td>\n",
       "    </tr>\n",
       "    <tr>\n",
       "      <th>15918</th>\n",
       "      <td>INITIALE PARIS TCe 225 EDC GPF NAVI SHZ AUX</td>\n",
       "    </tr>\n",
       "  </tbody>\n",
       "</table>\n",
       "<p>15919 rows × 1 columns</p>\n",
       "</div>"
      ],
      "text/plain": [
       "                                       short_description\n",
       "0            Sportback 1.4 TDI S-tronic Xenon Navi Klima\n",
       "1                                         1.8 TFSI sport\n",
       "2      Sportback 1.6 TDI S tronic Einparkhilfe plus+m...\n",
       "3                                1.4 TDi Design S tronic\n",
       "4      Sportback 1.4 TDI S-Tronic S-Line Ext. admired...\n",
       "...                                                  ...\n",
       "15914              Blue dCi 200CV EDC Executive 4Control\n",
       "15915                TCe 225 EDC GPF LIM Deluxe Pano,RFK\n",
       "15916  Blue dCi 200 EDC Initiale Paris Leder LED Navi...\n",
       "15917  Blue dCi 200CV EDC Business , NUOVA DA IMMATRI...\n",
       "15918        INITIALE PARIS TCe 225 EDC GPF NAVI SHZ AUX\n",
       "\n",
       "[15919 rows x 1 columns]"
      ]
     },
     "execution_count": 7,
     "metadata": {},
     "output_type": "execute_result"
    }
   ],
   "source": [
    "df.iloc[:,[2]]"
   ]
  },
  {
   "cell_type": "code",
   "execution_count": 8,
   "metadata": {},
   "outputs": [
    {
     "data": {
      "text/plain": [
       "0              Sportback 1.4 TDI S-tronic Xenon Navi Klima\n",
       "1                                           1.8 TFSI sport\n",
       "2        Sportback 1.6 TDI S tronic Einparkhilfe plus+m...\n",
       "3                                  1.4 TDi Design S tronic\n",
       "4        Sportback 1.4 TDI S-Tronic S-Line Ext. admired...\n",
       "                               ...                        \n",
       "15914                Blue dCi 200CV EDC Executive 4Control\n",
       "15915                  TCe 225 EDC GPF LIM Deluxe Pano,RFK\n",
       "15916    Blue dCi 200 EDC Initiale Paris Leder LED Navi...\n",
       "15917    Blue dCi 200CV EDC Business , NUOVA DA IMMATRI...\n",
       "15918          INITIALE PARIS TCe 225 EDC GPF NAVI SHZ AUX\n",
       "Name: short_description, Length: 15919, dtype: object"
      ]
     },
     "execution_count": 8,
     "metadata": {},
     "output_type": "execute_result"
    }
   ],
   "source": [
    "df[\"short_description\"]"
   ]
  },
  {
   "cell_type": "markdown",
   "metadata": {},
   "source": [
    "### df[\"body_type\"]"
   ]
  },
  {
   "cell_type": "code",
   "execution_count": 9,
   "metadata": {},
   "outputs": [
    {
     "data": {
      "text/html": [
       "<div>\n",
       "<style scoped>\n",
       "    .dataframe tbody tr th:only-of-type {\n",
       "        vertical-align: middle;\n",
       "    }\n",
       "\n",
       "    .dataframe tbody tr th {\n",
       "        vertical-align: top;\n",
       "    }\n",
       "\n",
       "    .dataframe thead th {\n",
       "        text-align: right;\n",
       "    }\n",
       "</style>\n",
       "<table border=\"1\" class=\"dataframe\">\n",
       "  <thead>\n",
       "    <tr style=\"text-align: right;\">\n",
       "      <th></th>\n",
       "      <th>body_type</th>\n",
       "    </tr>\n",
       "  </thead>\n",
       "  <tbody>\n",
       "    <tr>\n",
       "      <th>0</th>\n",
       "      <td>Sedans</td>\n",
       "    </tr>\n",
       "    <tr>\n",
       "      <th>1</th>\n",
       "      <td>Sedans</td>\n",
       "    </tr>\n",
       "    <tr>\n",
       "      <th>2</th>\n",
       "      <td>Sedans</td>\n",
       "    </tr>\n",
       "    <tr>\n",
       "      <th>3</th>\n",
       "      <td>Sedans</td>\n",
       "    </tr>\n",
       "    <tr>\n",
       "      <th>4</th>\n",
       "      <td>Sedans</td>\n",
       "    </tr>\n",
       "    <tr>\n",
       "      <th>...</th>\n",
       "      <td>...</td>\n",
       "    </tr>\n",
       "    <tr>\n",
       "      <th>15914</th>\n",
       "      <td>Van</td>\n",
       "    </tr>\n",
       "    <tr>\n",
       "      <th>15915</th>\n",
       "      <td>Van</td>\n",
       "    </tr>\n",
       "    <tr>\n",
       "      <th>15916</th>\n",
       "      <td>Van</td>\n",
       "    </tr>\n",
       "    <tr>\n",
       "      <th>15917</th>\n",
       "      <td>Van</td>\n",
       "    </tr>\n",
       "    <tr>\n",
       "      <th>15918</th>\n",
       "      <td>Van</td>\n",
       "    </tr>\n",
       "  </tbody>\n",
       "</table>\n",
       "<p>15919 rows × 1 columns</p>\n",
       "</div>"
      ],
      "text/plain": [
       "      body_type\n",
       "0        Sedans\n",
       "1        Sedans\n",
       "2        Sedans\n",
       "3        Sedans\n",
       "4        Sedans\n",
       "...         ...\n",
       "15914       Van\n",
       "15915       Van\n",
       "15916       Van\n",
       "15917       Van\n",
       "15918       Van\n",
       "\n",
       "[15919 rows x 1 columns]"
      ]
     },
     "execution_count": 9,
     "metadata": {},
     "output_type": "execute_result"
    }
   ],
   "source": [
    "df.iloc[:,[3]]"
   ]
  },
  {
   "cell_type": "code",
   "execution_count": 10,
   "metadata": {},
   "outputs": [
    {
     "data": {
      "text/plain": [
       "Sedans           7903\n",
       "Station wagon    3553\n",
       "Compact          3153\n",
       "Van               783\n",
       "Other             290\n",
       "Transporter        88\n",
       "NaN                60\n",
       "Off-Road           56\n",
       "Coupe              25\n",
       "Convertible         8\n",
       "Name: body_type, dtype: int64"
      ]
     },
     "execution_count": 10,
     "metadata": {},
     "output_type": "execute_result"
    }
   ],
   "source": [
    "df[\"body_type\"].value_counts(dropna = False)"
   ]
  },
  {
   "cell_type": "code",
   "execution_count": 11,
   "metadata": {},
   "outputs": [
    {
     "data": {
      "text/plain": [
       "60"
      ]
     },
     "execution_count": 11,
     "metadata": {},
     "output_type": "execute_result"
    }
   ],
   "source": [
    "df[\"body_type\"].isnull().sum()"
   ]
  },
  {
   "cell_type": "code",
   "execution_count": 12,
   "metadata": {},
   "outputs": [
    {
     "data": {
      "text/plain": [
       "3175    NaN\n",
       "3255    NaN\n",
       "Name: body_type, dtype: object"
      ]
     },
     "execution_count": 12,
     "metadata": {},
     "output_type": "execute_result"
    }
   ],
   "source": [
    "df[df[\"body_type\"].isnull()][\"body_type\"][0:2]# Nan ların indexi"
   ]
  },
  {
   "cell_type": "code",
   "execution_count": 13,
   "metadata": {},
   "outputs": [
    {
     "data": {
      "text/plain": [
       "'body_typ_nan = df[(df[\"make_model\"] == \"Audi A3\") & (df[\"body_type\"].isnull())][\"body_type\"]\\nbody_typ_nan '"
      ]
     },
     "execution_count": 13,
     "metadata": {},
     "output_type": "execute_result"
    }
   ],
   "source": [
    "\"\"\"body_typ_nan = df[(df[\"make_model\"] == \"Audi A3\") & (df[\"body_type\"].isnull())][\"body_type\"]\n",
    "body_typ_nan \"\"\""
   ]
  },
  {
   "cell_type": "code",
   "execution_count": 14,
   "metadata": {
    "scrolled": true
   },
   "outputs": [
    {
     "data": {
      "text/plain": [
       "'body_typ_nan = df[(df[\"make_model\"] == \"Audi A3\") & (df[\"body_type\"].isnull())][\"body_type\"]\\nbody_typ_nan.fillna(\"deneme\", inplace = True)'"
      ]
     },
     "execution_count": 14,
     "metadata": {},
     "output_type": "execute_result"
    }
   ],
   "source": [
    "\"\"\"body_typ_nan = df[(df[\"make_model\"] == \"Audi A3\") & (df[\"body_type\"].isnull())][\"body_type\"]\n",
    "body_typ_nan.fillna(\"deneme\", inplace = True)\"\"\""
   ]
  },
  {
   "cell_type": "code",
   "execution_count": null,
   "metadata": {},
   "outputs": [],
   "source": []
  },
  {
   "cell_type": "code",
   "execution_count": null,
   "metadata": {},
   "outputs": [],
   "source": []
  },
  {
   "cell_type": "markdown",
   "metadata": {},
   "source": [
    "## calısmadı ama neden????????? \n",
    "\n",
    "i_1 = 0\n",
    "body_non_make_modeller = df[df[\"body_type\"].isnull()][\"make_model\"]\n",
    "for i in body_non_make_modeller:\n",
    "    \n",
    "    if i_1 != i :\n",
    "        print(i)\n",
    "        mode = df[df[\"make_model\"] == f\"{i}\"][\"body_type\"].mode()[0]\n",
    "        print(mode)\n",
    "        \n",
    "         \n",
    "        body_typ_nan = df[(df[\"make_model\"] == f\"{i}\") & (df[\"body_type\"].isnull())][\"body_type\"]\n",
    "        print(body_typ_nan)\n",
    "        \n",
    "        print(\"************\") \n",
    "        body_typ_nan.fillna(mode, inplace = True)\n",
    "        print(body_typ_nan)\n",
    "           \n",
    "                       \n",
    "     \n",
    "    i_1 = i\n",
    "    \n",
    "    \n",
    "    \n",
    "    \n",
    "    \n",
    " "
   ]
  },
  {
   "cell_type": "code",
   "execution_count": null,
   "metadata": {},
   "outputs": [],
   "source": []
  },
  {
   "cell_type": "code",
   "execution_count": 15,
   "metadata": {},
   "outputs": [
    {
     "name": "stdout",
     "output_type": "stream",
     "text": [
      "************ Audi A3 Sedans\n",
      "Sedans\n",
      "Sedans\n",
      "Sedans\n",
      "Sedans\n",
      "Sedans\n",
      "Sedans\n",
      "Sedans\n",
      "************ Opel Astra Station wagon\n",
      "Station wagon\n",
      "Station wagon\n",
      "Station wagon\n",
      "Station wagon\n",
      "Station wagon\n",
      "Station wagon\n",
      "Station wagon\n",
      "************ Opel Corsa Compact\n",
      "Compact\n",
      "Compact\n",
      "************ Opel Insignia Station wagon\n",
      "Station wagon\n",
      "Station wagon\n",
      "Station wagon\n",
      "************ Renault Clio Sedans\n",
      "Sedans\n",
      "Sedans\n",
      "Sedans\n",
      "Sedans\n",
      "Sedans\n",
      "Sedans\n",
      "Sedans\n",
      "Sedans\n",
      "Sedans\n",
      "Sedans\n",
      "Sedans\n",
      "Sedans\n",
      "Sedans\n",
      "Sedans\n",
      "Sedans\n",
      "************ Renault Espace Van\n",
      "Van\n",
      "Van\n",
      "Van\n",
      "Van\n",
      "Van\n",
      "Van\n",
      "Van\n",
      "Van\n",
      "Van\n",
      "Van\n",
      "Van\n",
      "Van\n",
      "Van\n",
      "Van\n",
      "Van\n",
      "Van\n",
      "Van\n",
      "Van\n",
      "Van\n",
      "Van\n",
      "Van\n",
      "Van\n",
      "Van\n",
      "Van\n",
      "Van\n",
      "Van\n"
     ]
    }
   ],
   "source": [
    "i_1 = 0\n",
    "body_non_make_modeller = df[df[\"body_type\"].isnull()][\"make_model\"]\n",
    "for i in body_non_make_modeller:\n",
    "    \n",
    "    if i_1 != i :\n",
    "        \n",
    "               \n",
    "        mode = df[df[\"make_model\"] == f\"{i}\"][\"body_type\"].mode()[0]\n",
    "         \n",
    "        body_typ_nan = df[(df[\"make_model\"] == f\"{i}\") & (df[\"body_type\"].isnull())][\"body_type\"]\n",
    "        \n",
    "        #print(mode)\n",
    "        print(\"************\", i, mode)  \n",
    "        \n",
    "        for index in body_typ_nan.index :\n",
    "            \n",
    "            \n",
    "            df.loc[index, \"body_type\"] = mode\n",
    "            print(df.loc[index, \"body_type\"])\n",
    "            \n",
    "     \n",
    "    i_1 = i\n",
    "    "
   ]
  },
  {
   "cell_type": "code",
   "execution_count": 16,
   "metadata": {},
   "outputs": [
    {
     "data": {
      "text/plain": [
       "0"
      ]
     },
     "execution_count": 16,
     "metadata": {},
     "output_type": "execute_result"
    }
   ],
   "source": [
    "df[\"body_type\"].isnull().sum()"
   ]
  },
  {
   "cell_type": "code",
   "execution_count": 17,
   "metadata": {},
   "outputs": [
    {
     "data": {
      "text/plain": [
       "Sedans           7925\n",
       "Station wagon    3563\n",
       "Compact          3155\n",
       "Van               809\n",
       "Other             290\n",
       "Transporter        88\n",
       "Off-Road           56\n",
       "Coupe              25\n",
       "Convertible         8\n",
       "Name: body_type, dtype: int64"
      ]
     },
     "execution_count": 17,
     "metadata": {},
     "output_type": "execute_result"
    }
   ],
   "source": [
    "df[\"body_type\"].value_counts(dropna=False)"
   ]
  },
  {
   "cell_type": "code",
   "execution_count": null,
   "metadata": {},
   "outputs": [],
   "source": []
  },
  {
   "cell_type": "markdown",
   "metadata": {},
   "source": [
    "## Drop"
   ]
  },
  {
   "cell_type": "code",
   "execution_count": null,
   "metadata": {},
   "outputs": [],
   "source": []
  },
  {
   "cell_type": "code",
   "execution_count": 18,
   "metadata": {},
   "outputs": [],
   "source": [
    "df.drop(\"Body\", axis =1, inplace=True)"
   ]
  },
  {
   "cell_type": "code",
   "execution_count": 19,
   "metadata": {},
   "outputs": [
    {
     "data": {
      "text/plain": [
       "Index(['Unnamed: 0', 'make_model', 'short_description', 'body_type', 'price',\n",
       "       'vat', 'km', 'registration', 'prev_owner', 'hp', 'Previous Owners',\n",
       "       'Next Inspection', 'Warranty', 'Full Service', 'Non-smoking Vehicle',\n",
       "       'Make', 'Model', 'First Registration', 'Body Color', 'Paint Type',\n",
       "       'Body Color Original', 'Upholstery', 'Nr. of Doors', 'Nr. of Seats',\n",
       "       'Model Code', 'Gearing Type', 'Displacement', 'Cylinders', 'Weight',\n",
       "       'Drive chain', 'Fuel', 'CO2 Emission', 'Emission Class',\n",
       "       'Comfort & Convenience', 'Entertainment & Media', 'Extras',\n",
       "       'Safety & Security', 'description', 'Emission Label', 'Gears',\n",
       "       'Country version', 'Now', 'age_car', 'Consumption_comb',\n",
       "       'Consumption_city', 'Consumption_country'],\n",
       "      dtype='object')"
      ]
     },
     "execution_count": 19,
     "metadata": {},
     "output_type": "execute_result"
    }
   ],
   "source": [
    "df.columns\n"
   ]
  },
  {
   "cell_type": "markdown",
   "metadata": {},
   "source": [
    "## df['vat']"
   ]
  },
  {
   "cell_type": "code",
   "execution_count": 28,
   "metadata": {},
   "outputs": [],
   "source": [
    "#### df['vat']   vat deductive ise True degil se False"
   ]
  },
  {
   "cell_type": "code",
   "execution_count": null,
   "metadata": {},
   "outputs": [],
   "source": []
  },
  {
   "cell_type": "code",
   "execution_count": 40,
   "metadata": {},
   "outputs": [
    {
     "data": {
      "text/plain": [
       "True                10980\n",
       "NaN                  4513\n",
       "Price negotiable      426\n",
       "Name: vat, dtype: int64"
      ]
     },
     "execution_count": 40,
     "metadata": {},
     "output_type": "execute_result"
    }
   ],
   "source": [
    "df['vat'].value_counts(dropna =False)"
   ]
  },
  {
   "cell_type": "code",
   "execution_count": 34,
   "metadata": {},
   "outputs": [
    {
     "data": {
      "text/plain": [
       "28.349770714240847"
      ]
     },
     "execution_count": 34,
     "metadata": {},
     "output_type": "execute_result"
    }
   ],
   "source": [
    "df['vat'].isnull().sum() / df['vat'].shape[0]*100"
   ]
  },
  {
   "cell_type": "code",
   "execution_count": 39,
   "metadata": {},
   "outputs": [],
   "source": [
    "df['vat'].replace(\"VAT deductible\", True, inplace =True)"
   ]
  },
  {
   "cell_type": "code",
   "execution_count": 41,
   "metadata": {},
   "outputs": [],
   "source": [
    "df['vat'].replace(\"Price negotiable\", False, inplace =True)"
   ]
  },
  {
   "cell_type": "code",
   "execution_count": 43,
   "metadata": {},
   "outputs": [],
   "source": [
    "df[\"vat\"].fillna(True, inplace = True)"
   ]
  },
  {
   "cell_type": "code",
   "execution_count": 47,
   "metadata": {},
   "outputs": [
    {
     "data": {
      "text/plain": [
       "0"
      ]
     },
     "execution_count": 47,
     "metadata": {},
     "output_type": "execute_result"
    }
   ],
   "source": [
    "df['vat'].isnull().sum()"
   ]
  },
  {
   "cell_type": "markdown",
   "metadata": {},
   "source": [
    "### df[\"km\"]"
   ]
  },
  {
   "cell_type": "code",
   "execution_count": 53,
   "metadata": {},
   "outputs": [
    {
     "data": {
      "text/plain": [
       "'km'"
      ]
     },
     "execution_count": 53,
     "metadata": {},
     "output_type": "execute_result"
    }
   ],
   "source": [
    "df.columns[6]"
   ]
  },
  {
   "cell_type": "code",
   "execution_count": 55,
   "metadata": {},
   "outputs": [
    {
     "data": {
      "text/plain": [
       "1024"
      ]
     },
     "execution_count": 55,
     "metadata": {},
     "output_type": "execute_result"
    }
   ],
   "source": [
    "df[\"km\"].isnull().sum()"
   ]
  },
  {
   "cell_type": "code",
   "execution_count": 56,
   "metadata": {},
   "outputs": [
    {
     "data": {
      "text/plain": [
       "6.432564859601733"
      ]
     },
     "execution_count": 56,
     "metadata": {},
     "output_type": "execute_result"
    }
   ],
   "source": [
    "df[\"km\"].isnull().sum() / df.km.shape[0]*100"
   ]
  },
  {
   "cell_type": "code",
   "execution_count": 60,
   "metadata": {},
   "outputs": [
    {
     "data": {
      "text/plain": [
       "Index(['Unnamed: 0', 'make_model', 'short_description', 'body_type', 'price',\n",
       "       'vat', 'km', 'registration', 'prev_owner', 'hp', 'Previous Owners',\n",
       "       'Next Inspection', 'Warranty', 'Full Service', 'Non-smoking Vehicle',\n",
       "       'Make', 'Model', 'First Registration', 'Body Color', 'Paint Type',\n",
       "       'Body Color Original', 'Upholstery', 'Nr. of Doors', 'Nr. of Seats',\n",
       "       'Model Code', 'Gearing Type', 'Displacement', 'Cylinders', 'Weight',\n",
       "       'Drive chain', 'Fuel', 'CO2 Emission', 'Emission Class',\n",
       "       'Comfort & Convenience', 'Entertainment & Media', 'Extras',\n",
       "       'Safety & Security', 'description', 'Emission Label', 'Gears',\n",
       "       'Country version', 'Now', 'age_car', 'Consumption_comb',\n",
       "       'Consumption_city', 'Consumption_country'],\n",
       "      dtype='object')"
      ]
     },
     "execution_count": 60,
     "metadata": {},
     "output_type": "execute_result"
    }
   ],
   "source": [
    "df.columns"
   ]
  },
  {
   "cell_type": "code",
   "execution_count": 66,
   "metadata": {},
   "outputs": [
    {
     "data": {
      "text/plain": [
       "make_model      age_car\n",
       "Audi A1         1.0         2494.501053\n",
       "                2.0        13785.852901\n",
       "                3.0        25821.712963\n",
       "                4.0        54332.286169\n",
       "Audi A2         2.0        26166.000000\n",
       "Audi A3         1.0         2126.757322\n",
       "                2.0        18410.524485\n",
       "                3.0        43853.140741\n",
       "                4.0        90092.982885\n",
       "Opel Astra      1.0         2915.672018\n",
       "                2.0        21442.708738\n",
       "                3.0        49981.778535\n",
       "                4.0        89134.265896\n",
       "Opel Corsa      1.0         1079.616514\n",
       "                2.0        17426.714495\n",
       "                3.0        39977.979058\n",
       "                4.0        62904.030303\n",
       "Opel Insignia   1.0         3483.250000\n",
       "                2.0        22193.801567\n",
       "                3.0        47732.103565\n",
       "                4.0        93187.985891\n",
       "Renault Clio    1.0          727.282946\n",
       "                2.0        15396.517730\n",
       "                3.0        36660.153318\n",
       "                4.0        68564.279126\n",
       "Renault Duster  1.0          101.000000\n",
       "Renault Espace  1.0         1755.752525\n",
       "                2.0        14203.599138\n",
       "                3.0        41886.635294\n",
       "                4.0        74400.566667\n",
       "Name: km, dtype: float64"
      ]
     },
     "execution_count": 66,
     "metadata": {},
     "output_type": "execute_result"
    }
   ],
   "source": [
    "df.groupby([\"make_model\", \"age_car\"])[\"km\"].mean()"
   ]
  },
  {
   "cell_type": "code",
   "execution_count": null,
   "metadata": {},
   "outputs": [],
   "source": [
    "df.groupby([\"make_model\", \"age_car\"])[\"km\"].mean()"
   ]
  },
  {
   "cell_type": "markdown",
   "metadata": {},
   "source": [
    "*****km Nan larının 838 tanesi nin yas degeri de bos. % 81 bos"
   ]
  },
  {
   "cell_type": "code",
   "execution_count": 78,
   "metadata": {},
   "outputs": [
    {
     "data": {
      "text/plain": [
       "make_model     0.000000\n",
       "age_car       81.835938\n",
       "dtype: float64"
      ]
     },
     "execution_count": 78,
     "metadata": {},
     "output_type": "execute_result"
    }
   ],
   "source": [
    "df[df.km.isnull()][[\"make_model\", \"age_car\"]].isnull().sum() / df[df.km.isnull()][[\"make_model\", \"age_car\"]].shape[0] *100"
   ]
  },
  {
   "cell_type": "code",
   "execution_count": 79,
   "metadata": {},
   "outputs": [
    {
     "data": {
      "text/plain": [
       "make_model      0\n",
       "age_car       838\n",
       "dtype: int64"
      ]
     },
     "execution_count": 79,
     "metadata": {},
     "output_type": "execute_result"
    }
   ],
   "source": [
    "df[df.km.isnull()][[\"make_model\", \"age_car\"]].isnull().sum()"
   ]
  },
  {
   "cell_type": "markdown",
   "metadata": {},
   "source": [
    "### yasın yüzde 10 bos"
   ]
  },
  {
   "cell_type": "code",
   "execution_count": 87,
   "metadata": {},
   "outputs": [
    {
     "data": {
      "text/plain": [
       "10.032037188265594"
      ]
     },
     "execution_count": 87,
     "metadata": {},
     "output_type": "execute_result"
    }
   ],
   "source": [
    "df[\"age_car\"].isnull().sum() / df[\"age_car\"].shape[0] * 100"
   ]
  },
  {
   "cell_type": "code",
   "execution_count": 100,
   "metadata": {},
   "outputs": [
    {
     "data": {
      "text/plain": [
       "5.095669687814703"
      ]
     },
     "execution_count": 100,
     "metadata": {},
     "output_type": "execute_result"
    }
   ],
   "source": [
    "df[df[\"km\"].notna()][\"age_car\"].isnull().sum()/ df[df[\"km\"].notna()][\"age_car\"].shape[0] * 100"
   ]
  },
  {
   "cell_type": "code",
   "execution_count": 111,
   "metadata": {},
   "outputs": [
    {
     "name": "stderr",
     "output_type": "stream",
     "text": [
      "C:\\ProgramData\\Anaconda3\\lib\\site-packages\\ipykernel_launcher.py:1: FutureWarning: Indexing with multiple keys (implicitly converted to a tuple of keys) will be deprecated, use a list instead.\n",
      "  \"\"\"Entry point for launching an IPython kernel.\n"
     ]
    },
    {
     "data": {
      "text/html": [
       "<div>\n",
       "<style scoped>\n",
       "    .dataframe tbody tr th:only-of-type {\n",
       "        vertical-align: middle;\n",
       "    }\n",
       "\n",
       "    .dataframe tbody tr th {\n",
       "        vertical-align: top;\n",
       "    }\n",
       "\n",
       "    .dataframe thead th {\n",
       "        text-align: right;\n",
       "    }\n",
       "</style>\n",
       "<table border=\"1\" class=\"dataframe\">\n",
       "  <thead>\n",
       "    <tr style=\"text-align: right;\">\n",
       "      <th></th>\n",
       "      <th></th>\n",
       "      <th>age_car</th>\n",
       "    </tr>\n",
       "    <tr>\n",
       "      <th>make_model</th>\n",
       "      <th>age_car</th>\n",
       "      <th></th>\n",
       "    </tr>\n",
       "  </thead>\n",
       "  <tbody>\n",
       "    <tr>\n",
       "      <th rowspan=\"2\" valign=\"top\">Audi A1</th>\n",
       "      <th>1.0</th>\n",
       "      <td>1.0</td>\n",
       "    </tr>\n",
       "    <tr>\n",
       "      <th>2.0</th>\n",
       "      <td>2.0</td>\n",
       "    </tr>\n",
       "    <tr>\n",
       "      <th rowspan=\"2\" valign=\"top\">Audi A3</th>\n",
       "      <th>1.0</th>\n",
       "      <td>1.0</td>\n",
       "    </tr>\n",
       "    <tr>\n",
       "      <th>2.0</th>\n",
       "      <td>2.0</td>\n",
       "    </tr>\n",
       "    <tr>\n",
       "      <th rowspan=\"2\" valign=\"top\">Opel Astra</th>\n",
       "      <th>1.0</th>\n",
       "      <td>1.0</td>\n",
       "    </tr>\n",
       "    <tr>\n",
       "      <th>2.0</th>\n",
       "      <td>2.0</td>\n",
       "    </tr>\n",
       "    <tr>\n",
       "      <th>Opel Corsa</th>\n",
       "      <th>1.0</th>\n",
       "      <td>1.0</td>\n",
       "    </tr>\n",
       "    <tr>\n",
       "      <th rowspan=\"2\" valign=\"top\">Opel Insignia</th>\n",
       "      <th>1.0</th>\n",
       "      <td>1.0</td>\n",
       "    </tr>\n",
       "    <tr>\n",
       "      <th>2.0</th>\n",
       "      <td>2.0</td>\n",
       "    </tr>\n",
       "    <tr>\n",
       "      <th rowspan=\"3\" valign=\"top\">Renault Clio</th>\n",
       "      <th>1.0</th>\n",
       "      <td>1.0</td>\n",
       "    </tr>\n",
       "    <tr>\n",
       "      <th>2.0</th>\n",
       "      <td>2.0</td>\n",
       "    </tr>\n",
       "    <tr>\n",
       "      <th>3.0</th>\n",
       "      <td>3.0</td>\n",
       "    </tr>\n",
       "    <tr>\n",
       "      <th rowspan=\"2\" valign=\"top\">Renault Espace</th>\n",
       "      <th>1.0</th>\n",
       "      <td>1.0</td>\n",
       "    </tr>\n",
       "    <tr>\n",
       "      <th>2.0</th>\n",
       "      <td>2.0</td>\n",
       "    </tr>\n",
       "  </tbody>\n",
       "</table>\n",
       "</div>"
      ],
      "text/plain": [
       "                        age_car\n",
       "make_model     age_car         \n",
       "Audi A1        1.0          1.0\n",
       "               2.0          2.0\n",
       "Audi A3        1.0          1.0\n",
       "               2.0          2.0\n",
       "Opel Astra     1.0          1.0\n",
       "               2.0          2.0\n",
       "Opel Corsa     1.0          1.0\n",
       "Opel Insignia  1.0          1.0\n",
       "               2.0          2.0\n",
       "Renault Clio   1.0          1.0\n",
       "               2.0          2.0\n",
       "               3.0          3.0\n",
       "Renault Espace 1.0          1.0\n",
       "               2.0          2.0"
      ]
     },
     "execution_count": 111,
     "metadata": {},
     "output_type": "execute_result"
    }
   ],
   "source": [
    "df[df[\"km\"].isnull()].groupby([\"make_model\", \"age_car\"])[\"make_model\", \"age_car\"].mean()"
   ]
  },
  {
   "cell_type": "code",
   "execution_count": 120,
   "metadata": {
    "scrolled": true
   },
   "outputs": [
    {
     "data": {
      "text/html": [
       "<div>\n",
       "<style scoped>\n",
       "    .dataframe tbody tr th:only-of-type {\n",
       "        vertical-align: middle;\n",
       "    }\n",
       "\n",
       "    .dataframe tbody tr th {\n",
       "        vertical-align: top;\n",
       "    }\n",
       "\n",
       "    .dataframe thead th {\n",
       "        text-align: right;\n",
       "    }\n",
       "</style>\n",
       "<table border=\"1\" class=\"dataframe\">\n",
       "  <thead>\n",
       "    <tr style=\"text-align: right;\">\n",
       "      <th></th>\n",
       "      <th>km</th>\n",
       "      <th>age_car</th>\n",
       "    </tr>\n",
       "    <tr>\n",
       "      <th>make_model</th>\n",
       "      <th></th>\n",
       "      <th></th>\n",
       "    </tr>\n",
       "  </thead>\n",
       "  <tbody>\n",
       "    <tr>\n",
       "      <th>Audi A1</th>\n",
       "      <td>23925.285173</td>\n",
       "      <td>2.527535</td>\n",
       "    </tr>\n",
       "    <tr>\n",
       "      <th>Audi A2</th>\n",
       "      <td>26166.000000</td>\n",
       "      <td>2.000000</td>\n",
       "    </tr>\n",
       "    <tr>\n",
       "      <th>Audi A3</th>\n",
       "      <td>40340.800000</td>\n",
       "      <td>2.642524</td>\n",
       "    </tr>\n",
       "    <tr>\n",
       "      <th>Opel Astra</th>\n",
       "      <td>39023.504641</td>\n",
       "      <td>2.512024</td>\n",
       "    </tr>\n",
       "    <tr>\n",
       "      <th>Opel Corsa</th>\n",
       "      <td>25616.984630</td>\n",
       "      <td>2.325254</td>\n",
       "    </tr>\n",
       "    <tr>\n",
       "      <th>Opel Insignia</th>\n",
       "      <td>42011.823230</td>\n",
       "      <td>2.629133</td>\n",
       "    </tr>\n",
       "    <tr>\n",
       "      <th>Renault Clio</th>\n",
       "      <td>30489.935853</td>\n",
       "      <td>2.565598</td>\n",
       "    </tr>\n",
       "    <tr>\n",
       "      <th>Renault Duster</th>\n",
       "      <td>101.000000</td>\n",
       "      <td>1.000000</td>\n",
       "    </tr>\n",
       "    <tr>\n",
       "      <th>Renault Espace</th>\n",
       "      <td>35152.019108</td>\n",
       "      <td>2.610811</td>\n",
       "    </tr>\n",
       "  </tbody>\n",
       "</table>\n",
       "</div>"
      ],
      "text/plain": [
       "                          km   age_car\n",
       "make_model                            \n",
       "Audi A1         23925.285173  2.527535\n",
       "Audi A2         26166.000000  2.000000\n",
       "Audi A3         40340.800000  2.642524\n",
       "Opel Astra      39023.504641  2.512024\n",
       "Opel Corsa      25616.984630  2.325254\n",
       "Opel Insignia   42011.823230  2.629133\n",
       "Renault Clio    30489.935853  2.565598\n",
       "Renault Duster    101.000000  1.000000\n",
       "Renault Espace  35152.019108  2.610811"
      ]
     },
     "execution_count": 120,
     "metadata": {},
     "output_type": "execute_result"
    }
   ],
   "source": [
    "df.groupby(\"make_model\")[[\"km\",\"make_model\",\"age_car\"]].mean()"
   ]
  },
  {
   "cell_type": "code",
   "execution_count": 122,
   "metadata": {},
   "outputs": [
    {
     "data": {
      "text/plain": [
       "2.0    4522\n",
       "4.0    3674\n",
       "3.0    3273\n",
       "1.0    2853\n",
       "Name: age_car, dtype: int64"
      ]
     },
     "execution_count": 122,
     "metadata": {},
     "output_type": "execute_result"
    }
   ],
   "source": [
    "df[\"age_car\"].value_counts()"
   ]
  },
  {
   "cell_type": "code",
   "execution_count": null,
   "metadata": {},
   "outputs": [],
   "source": [
    "df[\"age_car\""
   ]
  },
  {
   "cell_type": "code",
   "execution_count": 25,
   "metadata": {},
   "outputs": [
    {
     "data": {
      "text/plain": [
       "array([\"['\\\\n06/2021\\\\n', '\\\\n99 g CO2/km (comb)\\\\n']\", nan,\n",
       "       \"['\\\\n02/2020\\\\n', '\\\\n97 g CO2/km (comb)\\\\n']\", ...,\n",
       "       \"['\\\\n02/2022\\\\n', '\\\\n153 g CO2/km (comb)\\\\n']\",\n",
       "       \"['\\\\n06/2021\\\\n', '\\\\n', '7.4 l/100 km (comb)', '\\\\n', '9.2 l/100 km (city)', '\\\\n', '6.3 l/100 km (country)', '\\\\n']\",\n",
       "       \"['\\\\n01/2022\\\\n', '\\\\n168 g CO2/km (comb)\\\\n']\"], dtype=object)"
      ]
     },
     "execution_count": 25,
     "metadata": {},
     "output_type": "execute_result"
    }
   ],
   "source": [
    "df[\"Next Inspection\"].unique()"
   ]
  },
  {
   "cell_type": "code",
   "execution_count": null,
   "metadata": {},
   "outputs": [],
   "source": []
  },
  {
   "cell_type": "code",
   "execution_count": null,
   "metadata": {},
   "outputs": [],
   "source": []
  },
  {
   "cell_type": "markdown",
   "metadata": {},
   "source": [
    "k=[\"\".join(item).strip() if type(item) == list else item for item in oto[\"Next Inspection\"]]"
   ]
  },
  {
   "cell_type": "markdown",
   "metadata": {},
   "source": [
    "\n",
    "Joseph - Instructor  8:10 PM\n",
    "nxtins = [\"\".join(item).strip() if type(item) == list else item for item in oto[\"Next Inspection\"]]"
   ]
  },
  {
   "cell_type": "code",
   "execution_count": null,
   "metadata": {},
   "outputs": [],
   "source": []
  }
 ],
 "metadata": {
  "kernelspec": {
   "display_name": "Python 3",
   "language": "python",
   "name": "python3"
  },
  "language_info": {
   "codemirror_mode": {
    "name": "ipython",
    "version": 3
   },
   "file_extension": ".py",
   "mimetype": "text/x-python",
   "name": "python",
   "nbconvert_exporter": "python",
   "pygments_lexer": "ipython3",
   "version": "3.7.6"
  }
 },
 "nbformat": 4,
 "nbformat_minor": 4
}
